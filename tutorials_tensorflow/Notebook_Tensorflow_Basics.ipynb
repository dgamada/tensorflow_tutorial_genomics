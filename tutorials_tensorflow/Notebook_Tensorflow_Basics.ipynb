{
 "cells": [
  {
   "cell_type": "code",
   "execution_count": 1,
   "metadata": {},
   "outputs": [],
   "source": [
    "from __future__ import absolute_import\n",
    "from __future__ import division\n",
    "from __future__ import print_function\n",
    "\n",
    "import numpy as np\n",
    "import matplotlib.pyplot as plt\n",
    "%matplotlib inline"
   ]
  },
  {
   "cell_type": "markdown",
   "metadata": {},
   "source": [
    "# Overview\n",
    "\n",
    "TensorFlow is a software library for numerical computation using data flow graphs, a programming paradigm that models a program as a directed graph of the data flowing between operations. TensorFlow's flexible architecture allows you to deploy computation to one or more CPUs or GPUs in a desktop, server, or mobile device with a single API. TensorFlow was originally developed by researchers and engineers working on the Google Brain Team within Google's Machine Intelligence research organization for the purposes of conducting machine learning and deep neural networks research, but the system is general enough to be applicable in a wide variety of other domains as well. TensorFlow was open sourced under the Apache 2.0 License in November 2015. \n",
    "\n",
    "TensorFlow provides multiple APIs. The lowest level API --TensorFlow Core-- provides you with complete programming control. We recommend TensorFlow Core for machine learning researchers and others who require fine levels of control over their models. The higher level APIs are built on top of TensorFlow Core. These higher level APIs are typically easier to learn and use than TensorFlow Core.\n",
    "\n",
    "To use TensorFlow, first we need to import it:"
   ]
  },
  {
   "cell_type": "code",
   "execution_count": 2,
   "metadata": {},
   "outputs": [],
   "source": [
    "import tensorflow as tf"
   ]
  },
  {
   "cell_type": "markdown",
   "metadata": {},
   "source": [
    "#### What is a tensor?\n",
    "\n",
    "The central unit of data in TensorFlow is the tensor. A tensor consists of a set of values shaped into an array of any number of dimensions. A tensor's rank is its number of dimensions.  Here are some examples of tensors:"
   ]
  },
  {
   "cell_type": "code",
   "execution_count": 3,
   "metadata": {},
   "outputs": [],
   "source": [
    "# 3                                 # a rank 0 tensor; a scalar with shape []\n",
    "# [1., 2., 3.]                      # a rank 1 tensor; a vector with shape [3]\n",
    "# [[1., 2., 3.], [4., 5., 6.]]      # a rank 2 tensor; a matrix with shape [2, 3]\n",
    "# [[[1., 2., 3.]], [[7., 8., 9.]]]  # a rank 3 tensor with shape [2, 1, 3]"
   ]
  },
  {
   "cell_type": "markdown",
   "metadata": {},
   "source": [
    "TensorFlow programs are structured into 2 phases:\n",
    "* construction phase that assembles a graph \n",
    "* execution phase that uses a session to execute ops in the graph\n",
    "    \n",
    "## Computational graph\n",
    "\n",
    "A computational graph is a series of TensorFlow operations arranged into a graph of nodes. Nodes in the graph represent mathematical operations, while the graph edges represent the multidimensional data arrays (tensors) communicated between them.  Each node takes zero or more tensors as inputs and produces a tensor as an output\n",
    "\n",
    "To do efficient numerical computing in Python, we typically use libraries like NumPy, which performs expensive operations such as matrix multiplication outside Python using highly efficient code implemented in another language. Unfortunately, there can still be a lot of overhead from switching back to Python every operation. This overhead is especially bad if you want to run computations on GPUs or in a distributed manner, where there can be a high cost to transferring data. TensorFlow also does its heavy lifting outside Python, but it takes things a step further to avoid this overhead. Instead of running a single expensive operation independently from Python, TensorFlow lets us describe a graph of interacting operations that run entirely outside Python. This approach is similar to that used in Theano or Torch. The role of the Python code is therefore to build this external computation graph, and to dictate which parts of the computation graph should be run. \n",
    "\n",
    "In this notebook, we will go over some basic graph nodes that will be useful for building a machine learning model.\n",
    "\n",
    "#### Constant op\n",
    "\n",
    "One type of node is a constant op. Like all TensorFlow constants, it takes no inputs, and it outputs a value it stores internally. Let's build a simple computational graph. We can create two floating point Tensors node1 and node2 as follows:"
   ]
  },
  {
   "cell_type": "code",
   "execution_count": 4,
   "metadata": {},
   "outputs": [
    {
     "name": "stdout",
     "output_type": "stream",
     "text": [
      "Tensor(\"Const:0\", shape=(), dtype=float32) Tensor(\"Const_1:0\", shape=(), dtype=float32)\n"
     ]
    }
   ],
   "source": [
    "node1 = tf.constant(3.0, dtype=tf.float32)\n",
    "node2 = tf.constant(4.0) # also tf.float32 implicitly\n",
    "print(node1, node2)"
   ]
  },
  {
   "cell_type": "markdown",
   "metadata": {},
   "source": [
    "Unlike NumPy that immediately performs the computation and produces the result, tensorflow only gives us a handle (of type Tensor) to a node in the graph that represents the result. \n",
    "\n",
    "## Sessions\n",
    "\n",
    "To evaluate the node, we must run the computational graph within a session. A session encapsulates the control and state of the TensorFlow runtime.  Sessions only run subgraphs that lead to the values you want to fetch. The following code creates a Session object and then invokes its run method to run enough of the computational graph to evaluate node1 and node2. The arguments of the run method are also known as fetches. The computational graph can be run in a session as follows:"
   ]
  },
  {
   "cell_type": "code",
   "execution_count": 5,
   "metadata": {},
   "outputs": [
    {
     "name": "stdout",
     "output_type": "stream",
     "text": [
      "[3.0, 4.0]\n"
     ]
    }
   ],
   "source": [
    "# start a session\n",
    "sess = tf.Session()\n",
    "\n",
    "# fetch the values of node1 and node2\n",
    "print(sess.run([node1, node2])) \n",
    "\n",
    "# close session\n",
    "sess.close()"
   ]
  },
  {
   "cell_type": "markdown",
   "metadata": {},
   "source": [
    "As it stands, this graph is not especially interesting because it always produces a constant result.\n",
    "\n",
    "## Variables\n",
    "\n",
    "In machine learning we typically want a model that can make different predictions for different inputs. To make the model trainable, we need to be able to modify the graph to get new outputs with the same input. Variables allow us to add trainable parameters to a graph. To declare a variable, you can create an instance of the class tf.Variable with a type and initial value:"
   ]
  },
  {
   "cell_type": "code",
   "execution_count": 6,
   "metadata": {},
   "outputs": [],
   "source": [
    "W = tf.Variable([.3], dtype=tf.float32, trainable=True, name=\"something\") \n",
    "b = tf.Variable([-.3], dtype=tf.float32, name=\"b\")    # trainable=True is default\n",
    "b2 = tf.Variable([-.3])     # default name will be given, default dtype is tf.float32"
   ]
  },
  {
   "cell_type": "markdown",
   "metadata": {},
   "source": [
    "#### Initialize variables\n",
    "\n",
    "Constants are initialized when you call tf.constant, and their value can never change. By contrast, variables are not initialized when you call tf.Variable. Until we call sess.run, the variables are uninitialized. If you try to evaluate the variables before initializing them you'll run into:\n"
   ]
  },
  {
   "cell_type": "code",
   "execution_count": 7,
   "metadata": {
    "scrolled": true
   },
   "outputs": [],
   "source": [
    "#with tf.Session() as sess:\n",
    "#    print(W.eval(sess))"
   ]
  },
  {
   "cell_type": "markdown",
   "metadata": {},
   "source": [
    "FailedPreconditionError: Attempting to use uninitialized value weight\n",
    "\n",
    "Here are some ways to evaluate a variable:"
   ]
  },
  {
   "cell_type": "code",
   "execution_count": 8,
   "metadata": {},
   "outputs": [
    {
     "name": "stdout",
     "output_type": "stream",
     "text": [
      "[ 0.30000001]\n",
      "[ 20.]\n"
     ]
    }
   ],
   "source": [
    "with tf.Session() as sess:\n",
    "    \n",
    "    # initialize variable\n",
    "    sess.run(W.initializer)\n",
    "    print(sess.run(W))\n",
    "    \n",
    "    # Example of assigning anew value\n",
    "    sess.run(W.assign([20]))\n",
    "\n",
    "    # You can also get a variable’s value from tf.Variable.eval()\n",
    "    print(W.eval())\n"
   ]
  },
  {
   "cell_type": "markdown",
   "metadata": {},
   "source": [
    "Although you can initialize individual variables or subset of variables, the easiest way is to initialize all variables in a TensorFlow program at once with:"
   ]
  },
  {
   "cell_type": "code",
   "execution_count": 9,
   "metadata": {},
   "outputs": [],
   "source": [
    "with tf.Session() as sess:\n",
    "    \n",
    "    # create a initializer op\n",
    "    init = tf.global_variables_initializer() \n",
    "\n",
    "    # run initializer op\n",
    "    sess.run(init)"
   ]
  },
  {
   "cell_type": "markdown",
   "metadata": {},
   "source": [
    "NOTE: this is the old way of creating variables.  TensorFlow now recommends that we use the wrapper tf.get_variable, which allows for easy variable sharing (necessary for GANS -- generative adversarial networks). With tf.get_variable, we can provide variable’s internal name, shape, type, and initializer to give the variable its initial value. "
   ]
  },
  {
   "cell_type": "markdown",
   "metadata": {},
   "source": [
    "tf.get_variable(\n",
    "    name,\n",
    "    shape=None,\n",
    "    dtype=None,\n",
    "    initializer=None,\n",
    "    regularizer=None,\n",
    "    trainable=True,\n",
    "    collections=None,\n",
    "    caching_device=None,\n",
    "    partitioner=None,\n",
    "    validate_shape=True,\n",
    "    use_resource=None,\n",
    "    custom_getter=None,\n",
    "    constraint=None\n",
    ")"
   ]
  },
  {
   "cell_type": "markdown",
   "metadata": {},
   "source": [
    "## Placeholders\n",
    "\n",
    "A graph can be parameterized to accept external inputs, known as placeholders. A placeholder is a promise to provide a value later.  To define a placeholder, we use:\n"
   ]
  },
  {
   "cell_type": "code",
   "execution_count": 10,
   "metadata": {},
   "outputs": [],
   "source": [
    "a = tf.placeholder(tf.float32) \n",
    "b = tf.placeholder(tf.float32) \n",
    "adder_node = a + b  # + provides a shortcut for tf.add(a, b)"
   ]
  },
  {
   "cell_type": "markdown",
   "metadata": {},
   "source": [
    "#### Feed dict for placeholders\n",
    "\n",
    "To evaluate this graph we need to provide concrete values to the placeholders.  This can be accomplished by using the feed_dict argument in the run method:\n"
   ]
  },
  {
   "cell_type": "code",
   "execution_count": 11,
   "metadata": {},
   "outputs": [
    {
     "name": "stdout",
     "output_type": "stream",
     "text": [
      "7.5\n",
      "[ 3.  7.]\n",
      "[ 3.  7.]\n"
     ]
    }
   ],
   "source": [
    "with tf.Session() as sess:\n",
    "    \n",
    "    # can feed in a single value\n",
    "    print(sess.run(adder_node, {a: 3, b: 4.5}))\n",
    "    \n",
    "    # or a list \n",
    "    print(sess.run(adder_node, {a: [1, 3], b: [2, 4]}))\n",
    "    \n",
    "    # or a numpy array \n",
    "    print(sess.run(adder_node, {a: np.array([1, 3]), b: np.array([2, 4])}))"
   ]
  },
  {
   "cell_type": "markdown",
   "metadata": {},
   "source": [
    "# Example with a linear regression\n",
    "\n",
    "Everything up to now has been pretty dry and boring.  Let's now learn by example on a simple made up dataset where we would like to learn a linear relationship between two variables. "
   ]
  },
  {
   "cell_type": "code",
   "execution_count": 12,
   "metadata": {},
   "outputs": [
    {
     "data": {
      "text/plain": [
       "<matplotlib.text.Text at 0x7f45296dd2d0>"
      ]
     },
     "execution_count": 12,
     "metadata": {},
     "output_type": "execute_result"
    },
    {
     "data": {
      "image/png": "[encoded data removed]",
      "text/plain": [
       "<matplotlib.figure.Figure at 0x7f4529707d90>"
      ]
     },
     "metadata": {},
     "output_type": "display_data"
    }
   ],
   "source": [
    "# dataset: univariate features with 5 samples and a corresponding continuous label\n",
    "x_data = np.array([0, 1, 2, 3, 4])\n",
    "y_data = np.array([-1.1, 0.0, 2.2, 3.2, 4.8])\n",
    "\n",
    "# plot the relationship\n",
    "plt.figure()\n",
    "plt.scatter(x_data, y_data, s=100)\n",
    "plt.xlabel('number of beers', fontsize=20)\n",
    "plt.ylabel('happiness (arb. units)', fontsize=20)"
   ]
  },
  {
   "cell_type": "markdown",
   "metadata": {},
   "source": [
    "#### reseting the default graph\n",
    "\n",
    "Warning: Continually building variables and ops adds it to the default graph. If you don't keep track, the default graph can get bloated with unnecessary, disjointed sub-graphs. We can start from a fresh canvas by resetting the default graph:"
   ]
  },
  {
   "cell_type": "code",
   "execution_count": 13,
   "metadata": {},
   "outputs": [],
   "source": [
    "tf.reset_default_graph()"
   ]
  },
  {
   "cell_type": "markdown",
   "metadata": {},
   "source": [
    "Now let's build a linear model in tensorflow: $y = x W + b$. So, we'll need to create a placeholder for $x$ and trainable variables for $W$ and $b$.  "
   ]
  },
  {
   "cell_type": "code",
   "execution_count": 14,
   "metadata": {},
   "outputs": [],
   "source": [
    "# placeholder to input the data\n",
    "x = tf.placeholder(tf.float32, name=\"features\")\n",
    "\n",
    "# create variables for the model parameters\n",
    "W = tf.Variable([.3], dtype=tf.float32, name=\"weight\") \n",
    "b = tf.Variable([-.3], dtype=tf.float32, name=\"bias\") \n",
    "\n",
    "# model\n",
    "linear_model = W*x + b\n",
    "# linear_model = tf.add(tf.multiply(W, x), b)"
   ]
  },
  {
   "cell_type": "markdown",
   "metadata": {},
   "source": [
    "Let's see how our current linear model explains the data"
   ]
  },
  {
   "cell_type": "code",
   "execution_count": 15,
   "metadata": {},
   "outputs": [
    {
     "data": {
      "image/png": "[encoded data removed]",
      "text/plain": [
       "<matplotlib.figure.Figure at 0x7f45283d1650>"
      ]
     },
     "metadata": {},
     "output_type": "display_data"
    }
   ],
   "source": [
    "# get predictions\n",
    "with tf.Session() as sess:\n",
    "    sess.run(tf.global_variables_initializer())\n",
    "    predictions = sess.run(linear_model, {x: x_data})\n",
    "    \n",
    "# plot the data and the predictions\n",
    "plt.figure()\n",
    "plt.scatter(x_data, y_data, s=100)\n",
    "plt.xlabel('number of beers', fontsize=20)\n",
    "plt.ylabel('happiness (arb. units)', fontsize=20)\n",
    "plt.plot(x_data, predictions, 'r');"
   ]
  },
  {
   "cell_type": "markdown",
   "metadata": {},
   "source": [
    "\n",
    "### Set up a loss function \n",
    "\n",
    "This should be no surprise that our model is crap!  But how crappy is it?  We need an objective function that tells us how good or bad our current model is from the provided data.  This function is also known as the cost function or the loss function. For a linear regression, the standard loss function is the sum of the squared errors between the model predictions and the observed data: \n",
    "\n",
    "$\\mathcal{L} = \\sum_i \\left(f(x) - y \\right)^2$\n",
    "\n",
    "\n",
    "To evaluate the model, we need a $y$ placeholder to provide the target values.  Then, we can write out the full loss function."
   ]
  },
  {
   "cell_type": "code",
   "execution_count": 16,
   "metadata": {},
   "outputs": [],
   "source": [
    "# create placeholder for y\n",
    "y = tf.placeholder(tf.float32) \n",
    "\n",
    "# calculate the squared errors\n",
    "squared_deltas = tf.square(linear_model - y) \n",
    "\n",
    "# sum over the squared errors\n",
    "loss = tf.reduce_sum(squared_deltas) "
   ]
  },
  {
   "cell_type": "markdown",
   "metadata": {},
   "source": [
    "### Optimizers\n",
    "\n",
    "The loss function doesn't improve our predictions by itself.  It only tells us how far our current model is from the labels or targets provided by the data. Presumably, the optimal model parameters should take on values which would minimize the loss function.  In machine learning, one strategy to find this minimum is to employ gradient descent learning, which is to iteratively update the parameters of the model to navigate down the surface via gradients. In general, computing symbolic derivatives manually is tedious and error-prone. Fortunately, TensorFlow does auto differentiation for us, then update the values of w and b to minimize the loss. TensorFlow can automatically produce derivatives given only a description of the model using the function tf.gradients. For simplicity, optimizers typically do this for you. \n",
    "\n",
    "See Blog tutorial on autodiff: http://www.columbia.edu/~ahd2125/post/2015/12/5/\n",
    "\n",
    "\n",
    "For example:"
   ]
  },
  {
   "cell_type": "code",
   "execution_count": 17,
   "metadata": {},
   "outputs": [],
   "source": [
    "optimizer = tf.train.GradientDescentOptimizer(learning_rate=0.01) \n",
    "\n",
    "# create op to calculate derivatives and update parameters\n",
    "train_step = optimizer.minimize(loss) "
   ]
  },
  {
   "cell_type": "markdown",
   "metadata": {},
   "source": [
    "GradientDescentOptimizer means that our update rule is gradient descent. It modifies each variable according to the magnitude of the derivative of loss with respect to that variable, scaled by the learning rate. \n",
    "\n",
    "Optimizer is an op whose job is to minimize loss. To execute this op, we need to pass it into the list of fetches of tf.Session.run(). By default, the optimizer trains all the trainable variables its objective function depends on. If there are variables that you do not want to train, you can set the keyword trainable=False when you declare a variable.  \n",
    "\n",
    "In this case, we see that optimizer depends on loss, and loss depends on inputs X,  Y, as well as two variables weights and bias. "
   ]
  },
  {
   "cell_type": "code",
   "execution_count": 18,
   "metadata": {},
   "outputs": [
    {
     "data": {
      "image/png": "[encoded data removed]",
      "text/plain": [
       "<matplotlib.figure.Figure at 0x7f452f75ca50>"
      ]
     },
     "metadata": {},
     "output_type": "display_data"
    }
   ],
   "source": [
    "# start session\n",
    "sess = tf.Session()\n",
    "\n",
    "# initialize all variables\n",
    "sess.run(tf.global_variables_initializer()) \n",
    "\n",
    "# execute optimizer \n",
    "sess.run(train_step, {x: x_data, y: y_data}) \n",
    "\n",
    "# get predictions\n",
    "predictions = sess.run(linear_model, {x: x_data})\n",
    "\n",
    "# plot the data and the predictions\n",
    "plt.figure()\n",
    "plt.scatter(x_data, y_data, s=100)\n",
    "plt.xlabel('number of beers', fontsize=20)\n",
    "plt.ylabel('happiness (arb. units)', fontsize=20)\n",
    "plt.plot(x_data, predictions, 'r');"
   ]
  },
  {
   "cell_type": "markdown",
   "metadata": {},
   "source": [
    "Notice that we ran the optimizer only once and the model predictions seem to be slightly better.  But, it's still not quite satisfactory.  So, let's run the optimizer many times to see if it helps."
   ]
  },
  {
   "cell_type": "code",
   "execution_count": 19,
   "metadata": {},
   "outputs": [
    {
     "data": {
      "image/png": "[encoded data removed]",
      "text/plain": [
       "<matplotlib.figure.Figure at 0x7f45283db8d0>"
      ]
     },
     "metadata": {},
     "output_type": "display_data"
    }
   ],
   "source": [
    "# let's train over many epochs\n",
    "for i in range(1000):   \n",
    "\n",
    "    # execute optimizer \n",
    "    sess.run(train_step, {x: x_data, y: y_data}) \n",
    "\n",
    "# get predictions\n",
    "predictions = sess.run(linear_model, {x: x_data})\n",
    "\n",
    "# plot the data and the predictions\n",
    "plt.figure()\n",
    "plt.scatter(x_data, y_data, s=100)\n",
    "plt.xlabel('number of beers', fontsize=20)\n",
    "plt.ylabel('happiness (arb. units)', fontsize=20)\n",
    "plt.plot(x_data, predictions, 'r');"
   ]
  },
  {
   "cell_type": "markdown",
   "metadata": {},
   "source": [
    " Woohoo!  We did it! Congratulations, you just trained your first tensorflow model. "
   ]
  },
  {
   "cell_type": "markdown",
   "metadata": {},
   "source": [
    "# Where to go from here\n",
    "\n",
    "go over tensorflow tutorials:\n",
    "https://www.tensorflow.org/tutorials/\n",
    "\n",
    "check out:\n",
    "* tensorboard\n",
    "* tf.estimator\n",
    "* tf.data\n",
    "* tf.summary\n",
    "\n",
    "building better tensorflow models:\n",
    "https://danijar.com/structuring-your-tensorflow-models/\n",
    "\n",
    "blog on gradient descent optimizers:\n",
    "http://ruder.io/optimizing-gradient-descent/\n"
   ]
  }
 ],
 "metadata": {
  "kernelspec": {
   "display_name": "Python 2",
   "language": "python",
   "name": "python2"
  },
  "language_info": {
   "codemirror_mode": {
    "name": "ipython",
    "version": 2
   },
   "file_extension": ".py",
   "mimetype": "text/x-python",
   "name": "python",
   "nbconvert_exporter": "python",
   "pygments_lexer": "ipython2",
   "version": "2.7.12"
  }
 },
 "nbformat": 4,
 "nbformat_minor": 2
}
