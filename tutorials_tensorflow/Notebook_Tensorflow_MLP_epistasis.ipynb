{
 "cells": [
  {
   "cell_type": "code",
   "execution_count": 1,
   "metadata": {},
   "outputs": [],
   "source": [
    "from __future__ import absolute_import\n",
    "from __future__ import division\n",
    "from __future__ import print_function\n",
    "\n",
    "import os, sys\n",
    "import numpy as np\n",
    "import pandas as pd\n",
    "import matplotlib.pyplot as plt\n",
    "%matplotlib inline\n",
    "\n",
    "import tensorflow as tf"
   ]
  },
  {
   "cell_type": "markdown",
   "metadata": {},
   "source": [
    "# Intro to the NN API\n",
    "\n",
    "Tensorflow has a nice api that includes many functions that we can help to seamlessly build and train neural networks models. End-to-end, the components we need to build are:\n",
    " * NN model --  takes inputs and makes a prediction\n",
    " * loss function -- takes NN model predictions and labels and calculates loss\n",
    " * optimizer -- calculates gradients of loss w.r.t. model parameters and sets update rules\n",
    " * training loop -- cycle through data with mini-batches and update parameters\n",
    " \n",
    "Let's first discuss the first part, building the NN model.  "
   ]
  },
  {
   "cell_type": "markdown",
   "metadata": {},
   "source": [
    "## Intro to MLP\n",
    "\n",
    "The multi-layer perceptron model is the standard neural network that first comes to mind when mentioning artificial neural networks.  It is a feed-forward neural network that takes as input a vector of input features, the has one or more hidden layers, with the number of neurons set by your heart's desire, followed by an output layer to make a prediction. If we are doing a simple linear regression, we just need one output neuron.  If we are classifying 10 different objects for a computer vision task, then we need 10 output neurons.  \n",
    "\n",
    "Each hidden layer consist of a fully-connected layer, also known as a dense layer, that takes each of its inputs and calculates a weighted-sum to each hidden neuron.  Importantly, the weighted sum is then processed with a non-linear activation.  It turns out, theoretically, what this non-linear activation doesn't matter much. In practice, however, certain non-linear activations, like the rectified linear unit (ReLU), are easier to work with, making it easier to train deep neural networks. \n",
    "\n",
    "The MLP architecture has been well-characterized in terms of its expressive power and approximation capabilities.  Given enough hidden units, this kind of network can be considered a universal function approximator mapping the relationship between the input and the outputs.  \n",
    "\n",
    "Let's build some basic components of a MLP!\n",
    "\n",
    "Suppose we have 4 different mutations and we have some experimentally-determined fitness value. One thing we can do with thid data is to see if a MLP can learn the relationship between fitness and the combination of mutations. This data is taken directly from:\n",
    "\n",
    "Wu et. al. \"Adaptation in protein fitness landscapes is facilitated by indirect paths\" eLife, 2016.\n",
    "\n",
    "### load fitness data and training labels\n",
    "\n",
    "load the data from the supplemental file.  Convert the 4 mutations into a one-hot representation and normalize the fitness scores to a z-score."
   ]
  },
  {
   "cell_type": "code",
   "execution_count": 2,
   "metadata": {},
   "outputs": [],
   "source": [
    "# load dataset\n",
    "filename = '../data/elife-16965-supp1-v4.xlsx'\n",
    "df = pd.read_excel(filename)\n",
    "\n",
    "# parse variants and fitness\n",
    "variants = df['Variants'].as_matrix()\n",
    "fitness = df['Fitness'].as_matrix()\n",
    "\n",
    "# filter data with a fitness of 0\n",
    "index = np.where(fitness!=0)[0]\n",
    "variants = variants[index]\n",
    "fitness = fitness[index]\n",
    "\n",
    "# create a one-hot vector for each variant\n",
    "alphabet = 'ACEDGFIHKMLNQPSRTWVY'\n",
    "num_alphabet = len(alphabet)\n",
    "num_variants = len(variants)\n",
    "one_hot = np.zeros((num_variants, num_alphabet, 4))\n",
    "for i in range(num_variants):\n",
    "    seq = str(variants[i])\n",
    "    for j in range(len(seq)):\n",
    "        index = alphabet.index(seq[j])\n",
    "        one_hot[i,index,j] = 1\n",
    "        \n",
    "# normalize fitness\n",
    "mu = np.mean(fitness)\n",
    "sigma = np.std(fitness)\n",
    "fitness = (fitness-mu)/sigma\n",
    "\n",
    "# convert to float 32 for GPU analysis\n",
    "one_hot = one_hot.astype(np.float32)\n",
    "fitness = fitness.astype(np.float32)"
   ]
  },
  {
   "cell_type": "markdown",
   "metadata": {},
   "source": [
    "#### Split dataset into a training set, validation set, and test set"
   ]
  },
  {
   "cell_type": "code",
   "execution_count": 3,
   "metadata": {},
   "outputs": [],
   "source": [
    "np.random.seed(247) # for reproducibility\n",
    "\n",
    "# split dataset into training cross validation and testing\n",
    "train_size = 0.65\n",
    "valid_size = 0.1\n",
    "test_size = 0.25\n",
    "split_size = [train_size, valid_size, test_size]\n",
    "\n",
    "# generate a shuffled subset of data for train, validation, and test\n",
    "num_seq = len(fitness)\n",
    "cum_index = np.cumsum(np.multiply([0, split_size[0], split_size[1], split_size[2]], num_seq)).astype(int) \n",
    "\n",
    "# randomly shuffle dataset\n",
    "shuffle = np.random.permutation(num_seq)\n",
    "\n",
    "# get shuffled indices for each data set\n",
    "train_index = shuffle[range(cum_index[0], cum_index[1])]\n",
    "valid_index = shuffle[range(cum_index[1], cum_index[2])]\n",
    "test_index = shuffle[range(cum_index[2], cum_index[3])]\n",
    "\n",
    "# create subsets of data based on indices \n",
    "X_train = one_hot[train_index]\n",
    "Y_train = np.expand_dims(fitness[train_index], axis=1)\n",
    "X_valid = one_hot[valid_index]\n",
    "Y_valid = np.expand_dims(fitness[valid_index], axis=1)\n",
    "X_test = one_hot[test_index]\n",
    "Y_test = np.expand_dims(fitness[test_index], axis=1)"
   ]
  },
  {
   "cell_type": "markdown",
   "metadata": {},
   "source": [
    "# build MLP model\n",
    "\n",
    "### Input layer\n",
    "\n",
    "Next, we need to establish placeholders to be able to feed in input features into the MLP model. Since the data has an ndarray shape of 3, due to the one-hot representation, we need to flatten it such that it is a vector.  We can do this as a preprocessing step in numpy or we can include this reshape within the tensorflow graph.  "
   ]
  },
  {
   "cell_type": "code",
   "execution_count": 4,
   "metadata": {},
   "outputs": [],
   "source": [
    "tf.reset_default_graph()\n",
    "\n",
    "# placeholder\n",
    "inputs = tf.placeholder(tf.float32, shape=[None, num_alphabet, 4])\n",
    "\n",
    "# reshape the inputs to be flat\n",
    "input_layer = tf.reshape(inputs, [-1, 4*num_alphabet])"
   ]
  },
  {
   "cell_type": "markdown",
   "metadata": {},
   "source": [
    "Here x and y_ aren't specific values. Rather, they are each a placeholder -- a value that we'll input when we ask TensorFlow to run a computation. shape=None means that tensors of any shape will be accepted. Using shape=None is easy to construct graphs, but nightmarish for debugging. You should always define the shape of your placeholders as detailed as possible. \n",
    "\n",
    "\n",
    "### Weight Initialization\n",
    "\n",
    "To create this model, we're going to need to create a lot of weights and biases. One should generally initialize weights with a small amount of noise for symmetry breaking, and to prevent 0 gradients. Since we're using ReLU neurons, it is also good practice to initialize them with a slightly positive initial bias to avoid \"dead neurons\". Instead of doing this repeatedly while we build the model, let's create two handy functions to do it for us.\n",
    "\n",
    "In this most common case, the weights are initialized with the tf.truncated_normal and given their shape of a 2-D tensor with the first dim representing the number of units in the layer from which the weights connect and the second dim representing the number of units in the layer to which the weights connect. For the first layer, named hidden1, the dimensions are [IMAGE_PIXELS, hidden1_units] because the weights are connecting the image inputs to the hidden1 layer. The tf.truncated_normal initializer generates a random distribution with a given mean and standard deviation.\n",
    "\n",
    "Then the biases are initialized with tf.zeros to ensure they start with all zero values, and their shape is simply the number of units in the layer to which they connect.\n",
    "\n",
    "The graph's three primary ops -- two tf.nn.relu ops wrapping tf.matmul for the hidden layers and one extra tf.matmul for the logits -- are then created, each in turn, with separate tf.Variable instances connected to each of the input placeholders or the output tensors of the previous layer.\n",
    "\n",
    "\n",
    "  Now, we are going to be instantiating tensorflow variables.  To do so, we need to initialize them.  A standard initialization used for neural networks is He-inits and Glorot-inits.  Here, we will use he inits.  Let's define a function for He-inits for the parameters and constant-inits for the bias terms."
   ]
  },
  {
   "cell_type": "code",
   "execution_count": 6,
   "metadata": {},
   "outputs": [],
   "source": [
    "# functions for initializations also known as inits\n",
    "def he_init(shape):\n",
    "    \"\"\"He inits are designed for neural networks that employ ReLU activations.\"\"\"\n",
    "    # fan_in is the number of neurons going into the layer\n",
    "    stddev = np.sqrt(2.6/shape[0])\n",
    "    return tf.truncated_normal(shape=shape, mean=0.0, stddev=stddev, dtype=tf.float32)\n",
    "\n",
    "def const_init(shape, value=0.0):\n",
    "    \"\"\"constant inits are useful for bias terms\"\"\"\n",
    "    return tf.constant(shape=shape, value=value, dtype=tf.float32)"
   ]
  },
  {
   "cell_type": "markdown",
   "metadata": {},
   "source": [
    "### Dense layer\n",
    "\n",
    "For more details:\n",
    "https://cs231n.github.io/convolutional-networks/\n",
    "\n",
    "\n",
    "To help improve the results of our model, we also apply dropout regularization to our dense layer, using the dropout method in layers:\n",
    "\n",
    "dropout = tf.layers.dropout(\n",
    "    inputs=dense, rate=0.4, training=mode == tf.estimator.ModeKeys.TRAIN)\n",
    "Again, inputs specifies the input tensor, which is the output tensor from our dense layer (dense).\n",
    "\n",
    "The rate argument specifies the dropout rate; here, we use 0.4, which means 40% of the elements will be randomly dropped out during training.\n",
    "\n",
    "The training argument takes a boolean specifying whether or not the model is currently being run in training mode; dropout will only be performed if training is True. Here, we check if the mode passed to our model function cnn_model_fn is TRAIN mode."
   ]
  },
  {
   "cell_type": "code",
   "execution_count": 7,
   "metadata": {},
   "outputs": [],
   "source": [
    "\n",
    "# build a fully-connected layer (also known as a dense layer)\n",
    "num_units = 256\n",
    "num_incoming = 4*num_alphabet\n",
    "W1 = tf.Variable(he_init(shape=[num_incoming, num_units]), name='W1')\n",
    "b1 = tf.Variable(const_init(shape=[num_units], value=0.01), name='b1')\n",
    "dense_1 = tf.matmul(input_layer, W1)\n",
    "\n",
    "# add bias term\n",
    "dense_1_bias = tf.nn.bias_add(dense_1, b1)\n",
    "\n",
    "# perform activation\n",
    "dense_1_active = tf.nn.relu(dense_1_bias)"
   ]
  },
  {
   "cell_type": "markdown",
   "metadata": {},
   "source": [
    "### Dropout\n",
    "\n",
    "To reduce overfitting, we will apply dropout before the readout layer. We create a placeholder for the probability that a neuron's output is kept during dropout. This allows us to turn dropout on during training, and turn it off during testing. TensorFlow's tf.nn.dropout op automatically handles scaling neuron outputs in addition to masking them, so dropout just works without any additional scaling.1"
   ]
  },
  {
   "cell_type": "code",
   "execution_count": 8,
   "metadata": {},
   "outputs": [],
   "source": [
    "# create placeholder for dropout keep probability\n",
    "keep_prob = tf.placeholder(tf.float32, name='keep_prob')\n",
    "\n",
    "# apply dropout to dense 1 layer\n",
    "dense_1_dropout = tf.nn.dropout(dense_1_active, keep_prob=keep_prob)"
   ]
  },
  {
   "cell_type": "markdown",
   "metadata": {},
   "source": [
    "### fully-connected output layer\n",
    "\n",
    "The output layer is a linear regression model.  "
   ]
  },
  {
   "cell_type": "code",
   "execution_count": 9,
   "metadata": {},
   "outputs": [],
   "source": [
    "# create variable for weights and biases\n",
    "W2 = tf.Variable(he_init(shape=[num_units, 1]), name='W2')\n",
    "b2 = tf.Variable(const_init(shape=[1], value=0.01), name='b2')\n",
    "\n",
    "# build a fully-connected layer (also known as a dense layer)\n",
    "dense_2 = tf.matmul(dense_1_dropout, W2)\n",
    "\n",
    "# add bias term\n",
    "predictions = tf.nn.bias_add(dense_2, b2)"
   ]
  },
  {
   "cell_type": "markdown",
   "metadata": {},
   "source": [
    "### Calculate Loss\n",
    "\n",
    "For both training and evaluation, we need to define a loss function that measures how closely the model's predictions match the target classes. This is usually a log-likelihood function for supervised learning.  The log-likelihood for a linear regression is a mean-squared error, with some basic assumptions of course.  \n",
    "\n",
    "We also need to be able to calculate the gradients of the loss function with respect to the parameters of the model, which is efficiently accomplished with backpropagation.  Then, we can update the weights with a scaled gradients, which is knownas gradient descent learning. \n",
    "\n",
    "Fortunately, tensorflow provides a nice wrappers to perform all of this with the tf.train API.  Within tf.train are numerous types of gradient descent optimizers, including traditional stochastic gradient descent (SGD), SGD with momentum, ADAGRAD, RMSPROP, ADAM, plus more.  We will use ADAM in this notebook.  "
   ]
  },
  {
   "cell_type": "code",
   "execution_count": 10,
   "metadata": {},
   "outputs": [],
   "source": [
    "# instantiate placeholder for labels \n",
    "targets = tf.placeholder(tf.float32, shape=[None, 1], name='targets')\n",
    "\n",
    "# calculate binary cross-entropy loss function\n",
    "squared_error = tf.square(predictions - targets)\n",
    "loss_function = tf.reduce_mean(squared_error)\n",
    "    \n",
    "# get a list of all trainable variables\n",
    "trainable_vars = tf.trainable_variables()\n",
    "\n",
    "# flatten and concatenate all parameters for L2/L1 regularization\n",
    "all_params = []\n",
    "for param in trainable_vars:\n",
    "    all_params = tf.concat([all_params, tf.reshape(param, [-1,])], axis=0)\n",
    "    \n",
    "# calculate L2 regularization\n",
    "l2_strength = 1e-5\n",
    "loss_function += tf.reduce_sum(tf.square(all_params))*l2_strength\n",
    "\n",
    "# setup optimizer\n",
    "optimizer = tf.train.AdamOptimizer(learning_rate=0.0003, \n",
    "                                   beta1=0.9, \n",
    "                                   beta2=0.999)\n",
    "update_vars = optimizer.minimize(loss_function, var_list=trainable_vars)"
   ]
  },
  {
   "cell_type": "markdown",
   "metadata": {},
   "source": [
    "# Train the MLP\n",
    "\n",
    "### Create a session"
   ]
  },
  {
   "cell_type": "code",
   "execution_count": 11,
   "metadata": {},
   "outputs": [],
   "source": [
    "# create session\n",
    "sess = tf.Session()\n",
    "\n",
    "# initialize all variables\n",
    "sess.run(tf.global_variables_initializer())"
   ]
  },
  {
   "cell_type": "markdown",
   "metadata": {},
   "source": [
    "\n",
    "\n",
    "### batch iterator\n",
    "\n",
    "We want to train our CNN model with mini-batch stochastic gradient descent.  So, we need a way to generate mini-batches of data. An effective strategy for training is to shuffle the dataset between each epoch. So, let's define a function to generate shuffled mini-batches. "
   ]
  },
  {
   "cell_type": "code",
   "execution_count": 12,
   "metadata": {},
   "outputs": [],
   "source": [
    "def batch_generator(X, y, batch_size=128, shuffle=True):\n",
    "    \"\"\"function to generate mini-batches of the data\"\"\"\n",
    "    if shuffle:\n",
    "        indices = np.arange(len(X))\n",
    "        np.random.shuffle(indices)\n",
    "    for start_idx in range(0, len(X)-batch_size+1, batch_size):\n",
    "        if shuffle:\n",
    "            excerpt = indices[start_idx:start_idx+batch_size]\n",
    "        else:\n",
    "            excerpt = slice(start_idx, start_idx+batch_size)\n",
    "        yield X[excerpt].astype(np.float32), y[excerpt].astype(np.float32)"
   ]
  },
  {
   "cell_type": "markdown",
   "metadata": {},
   "source": [
    "### train MLP"
   ]
  },
  {
   "cell_type": "code",
   "execution_count": 13,
   "metadata": {
    "scrolled": true
   },
   "outputs": [
    {
     "name": "stdout",
     "output_type": "stream",
     "text": [
      "making directory: ../results/epistasis\n",
      "Epoch 1 of 50\n",
      "  training loss:\t\t0.905065\n",
      "  validation loss:\t\t0.662489\n",
      "  validation Pearson r:\t\t0.509828\n",
      "  Lower validation loss found. Saving parameters to: ../results/epistasis/mlp\n",
      "Epoch 2 of 50\n",
      "  training loss:\t\t0.744407\n",
      "  validation loss:\t\t0.570326\n",
      "  validation Pearson r:\t\t0.606186\n",
      "  Lower validation loss found. Saving parameters to: ../results/epistasis/mlp\n",
      "Epoch 3 of 50\n",
      "  training loss:\t\t0.623410\n",
      "  validation loss:\t\t0.471984\n",
      "  validation Pearson r:\t\t0.692996\n",
      "  Lower validation loss found. Saving parameters to: ../results/epistasis/mlp\n",
      "Epoch 4 of 50\n",
      "  training loss:\t\t0.516946\n",
      "  validation loss:\t\t0.398697\n",
      "  validation Pearson r:\t\t0.747844\n",
      "  Lower validation loss found. Saving parameters to: ../results/epistasis/mlp\n",
      "Epoch 5 of 50\n",
      "  training loss:\t\t0.440017\n",
      "  validation loss:\t\t0.347614\n",
      "  validation Pearson r:\t\t0.785984\n",
      "  Lower validation loss found. Saving parameters to: ../results/epistasis/mlp\n",
      "Epoch 6 of 50\n",
      "  training loss:\t\t0.382777\n",
      "  validation loss:\t\t0.308489\n",
      "  validation Pearson r:\t\t0.811483\n",
      "  Lower validation loss found. Saving parameters to: ../results/epistasis/mlp\n",
      "Epoch 7 of 50\n",
      "  training loss:\t\t0.342357\n",
      "  validation loss:\t\t0.277116\n",
      "  validation Pearson r:\t\t0.833516\n",
      "  Lower validation loss found. Saving parameters to: ../results/epistasis/mlp\n",
      "Epoch 8 of 50\n",
      "  training loss:\t\t0.312448\n",
      "  validation loss:\t\t0.251913\n",
      "  validation Pearson r:\t\t0.850220\n",
      "  Lower validation loss found. Saving parameters to: ../results/epistasis/mlp\n",
      "Epoch 9 of 50\n",
      "  training loss:\t\t0.287775\n",
      "  validation loss:\t\t0.232264\n",
      "  validation Pearson r:\t\t0.863171\n",
      "  Lower validation loss found. Saving parameters to: ../results/epistasis/mlp\n",
      "Epoch 10 of 50\n",
      "  training loss:\t\t0.263022\n",
      "  validation loss:\t\t0.215997\n",
      "  validation Pearson r:\t\t0.873767\n",
      "  Lower validation loss found. Saving parameters to: ../results/epistasis/mlp\n",
      "Epoch 11 of 50\n",
      "  training loss:\t\t0.245558\n",
      "  validation loss:\t\t0.203003\n",
      "  validation Pearson r:\t\t0.880614\n",
      "  Lower validation loss found. Saving parameters to: ../results/epistasis/mlp\n",
      "Epoch 12 of 50\n",
      "  training loss:\t\t0.232364\n",
      "  validation loss:\t\t0.192186\n",
      "  validation Pearson r:\t\t0.888396\n",
      "  Lower validation loss found. Saving parameters to: ../results/epistasis/mlp\n",
      "Epoch 13 of 50\n",
      "  training loss:\t\t0.218299\n",
      "  validation loss:\t\t0.183682\n",
      "  validation Pearson r:\t\t0.892551\n",
      "  Lower validation loss found. Saving parameters to: ../results/epistasis/mlp\n",
      "Epoch 14 of 50\n",
      "  training loss:\t\t0.209850\n",
      "  validation loss:\t\t0.175416\n",
      "  validation Pearson r:\t\t0.897331\n",
      "  Lower validation loss found. Saving parameters to: ../results/epistasis/mlp\n",
      "Epoch 15 of 50\n",
      "  training loss:\t\t0.200826\n",
      "  validation loss:\t\t0.167073\n",
      "  validation Pearson r:\t\t0.902978\n",
      "  Lower validation loss found. Saving parameters to: ../results/epistasis/mlp\n",
      "Epoch 16 of 50\n",
      "  training loss:\t\t0.194355\n",
      "  validation loss:\t\t0.161016\n",
      "  validation Pearson r:\t\t0.906214\n",
      "  Lower validation loss found. Saving parameters to: ../results/epistasis/mlp\n",
      "Epoch 17 of 50\n",
      "  training loss:\t\t0.186119\n",
      "  validation loss:\t\t0.155051\n",
      "  validation Pearson r:\t\t0.909691\n",
      "  Lower validation loss found. Saving parameters to: ../results/epistasis/mlp\n",
      "Epoch 18 of 50\n",
      "  training loss:\t\t0.178024\n",
      "  validation loss:\t\t0.149570\n",
      "  validation Pearson r:\t\t0.912980\n",
      "  Lower validation loss found. Saving parameters to: ../results/epistasis/mlp\n",
      "Epoch 19 of 50\n",
      "  training loss:\t\t0.174553\n",
      "  validation loss:\t\t0.144429\n",
      "  validation Pearson r:\t\t0.916729\n",
      "  Lower validation loss found. Saving parameters to: ../results/epistasis/mlp\n",
      "Epoch 20 of 50\n",
      "  training loss:\t\t0.168951\n",
      "  validation loss:\t\t0.140441\n",
      "  validation Pearson r:\t\t0.919071\n",
      "  Lower validation loss found. Saving parameters to: ../results/epistasis/mlp\n",
      "Epoch 21 of 50\n",
      "  training loss:\t\t0.162937\n",
      "  validation loss:\t\t0.135546\n",
      "  validation Pearson r:\t\t0.921897\n",
      "  Lower validation loss found. Saving parameters to: ../results/epistasis/mlp\n",
      "Epoch 22 of 50\n",
      "  training loss:\t\t0.158225\n",
      "  validation loss:\t\t0.130766\n",
      "  validation Pearson r:\t\t0.925166\n",
      "  Lower validation loss found. Saving parameters to: ../results/epistasis/mlp\n",
      "Epoch 23 of 50\n",
      "  training loss:\t\t0.152023\n",
      "  validation loss:\t\t0.125932\n",
      "  validation Pearson r:\t\t0.927994\n",
      "  Lower validation loss found. Saving parameters to: ../results/epistasis/mlp\n",
      "Epoch 24 of 50\n",
      "  training loss:\t\t0.149317\n",
      "  validation loss:\t\t0.122918\n",
      "  validation Pearson r:\t\t0.929753\n",
      "  Lower validation loss found. Saving parameters to: ../results/epistasis/mlp\n",
      "Epoch 25 of 50\n",
      "  training loss:\t\t0.147019\n",
      "  validation loss:\t\t0.120697\n",
      "  validation Pearson r:\t\t0.930613\n",
      "  Lower validation loss found. Saving parameters to: ../results/epistasis/mlp\n",
      "Epoch 26 of 50\n",
      "  training loss:\t\t0.144588\n",
      "  validation loss:\t\t0.117099\n",
      "  validation Pearson r:\t\t0.933745\n",
      "  Lower validation loss found. Saving parameters to: ../results/epistasis/mlp\n",
      "Epoch 27 of 50\n",
      "  training loss:\t\t0.139846\n",
      "  validation loss:\t\t0.114363\n",
      "  validation Pearson r:\t\t0.934850\n",
      "  Lower validation loss found. Saving parameters to: ../results/epistasis/mlp\n",
      "Epoch 28 of 50\n",
      "  training loss:\t\t0.135381\n",
      "  validation loss:\t\t0.112329\n",
      "  validation Pearson r:\t\t0.935794\n",
      "  Lower validation loss found. Saving parameters to: ../results/epistasis/mlp\n",
      "Epoch 29 of 50\n",
      "  training loss:\t\t0.138768\n",
      "  validation loss:\t\t0.110786\n",
      "  validation Pearson r:\t\t0.937468\n",
      "  Lower validation loss found. Saving parameters to: ../results/epistasis/mlp\n",
      "Epoch 30 of 50\n",
      "  training loss:\t\t0.138193\n",
      "  validation loss:\t\t0.107019\n",
      "  validation Pearson r:\t\t0.939664\n",
      "  Lower validation loss found. Saving parameters to: ../results/epistasis/mlp\n",
      "Epoch 31 of 50\n",
      "  training loss:\t\t0.130116\n",
      "  validation loss:\t\t0.106182\n",
      "  validation Pearson r:\t\t0.941172\n",
      "  Lower validation loss found. Saving parameters to: ../results/epistasis/mlp\n",
      "Epoch 32 of 50\n",
      "  training loss:\t\t0.132257\n",
      "  validation loss:\t\t0.103308\n",
      "  validation Pearson r:\t\t0.941123\n",
      "  Lower validation loss found. Saving parameters to: ../results/epistasis/mlp\n",
      "Epoch 33 of 50\n",
      "  training loss:\t\t0.123925\n",
      "  validation loss:\t\t0.101749\n",
      "  validation Pearson r:\t\t0.942491\n",
      "  Lower validation loss found. Saving parameters to: ../results/epistasis/mlp\n",
      "Epoch 34 of 50\n",
      "  training loss:\t\t0.127516\n",
      "  validation loss:\t\t0.100057\n",
      "  validation Pearson r:\t\t0.944006\n",
      "  Lower validation loss found. Saving parameters to: ../results/epistasis/mlp\n",
      "Epoch 35 of 50\n",
      "  training loss:\t\t0.122334\n",
      "  validation loss:\t\t0.099081\n",
      "  validation Pearson r:\t\t0.943772\n",
      "  Lower validation loss found. Saving parameters to: ../results/epistasis/mlp\n",
      "Epoch 36 of 50\n",
      "  training loss:\t\t0.124646\n",
      "  validation loss:\t\t0.097166\n",
      "  validation Pearson r:\t\t0.944690\n",
      "  Lower validation loss found. Saving parameters to: ../results/epistasis/mlp\n",
      "Epoch 37 of 50\n",
      "  training loss:\t\t0.121868\n",
      "  validation loss:\t\t0.095972\n",
      "  validation Pearson r:\t\t0.945868\n",
      "  Lower validation loss found. Saving parameters to: ../results/epistasis/mlp\n",
      "Epoch 38 of 50\n",
      "  training loss:\t\t0.122326\n",
      "  validation loss:\t\t0.094437\n",
      "  validation Pearson r:\t\t0.947525\n",
      "  Lower validation loss found. Saving parameters to: ../results/epistasis/mlp\n",
      "Epoch 39 of 50\n",
      "  training loss:\t\t0.116700\n",
      "  validation loss:\t\t0.093570\n",
      "  validation Pearson r:\t\t0.947131\n",
      "  Lower validation loss found. Saving parameters to: ../results/epistasis/mlp\n",
      "Epoch 40 of 50\n",
      "  training loss:\t\t0.117850\n",
      "  validation loss:\t\t0.092019\n",
      "  validation Pearson r:\t\t0.948498\n",
      "  Lower validation loss found. Saving parameters to: ../results/epistasis/mlp\n",
      "Epoch 41 of 50\n",
      "  training loss:\t\t0.118004\n",
      "  validation loss:\t\t0.091078\n",
      "  validation Pearson r:\t\t0.949293\n",
      "  Lower validation loss found. Saving parameters to: ../results/epistasis/mlp\n",
      "Epoch 42 of 50\n",
      "  training loss:\t\t0.117744\n",
      "  validation loss:\t\t0.089577\n",
      "  validation Pearson r:\t\t0.949494\n",
      "  Lower validation loss found. Saving parameters to: ../results/epistasis/mlp\n",
      "Epoch 43 of 50\n",
      "  training loss:\t\t0.112072\n",
      "  validation loss:\t\t0.088381\n",
      "  validation Pearson r:\t\t0.950436\n",
      "  Lower validation loss found. Saving parameters to: ../results/epistasis/mlp\n",
      "Epoch 44 of 50\n",
      "  training loss:\t\t0.115524\n",
      "  validation loss:\t\t0.088680\n",
      "  validation Pearson r:\t\t0.950507\n",
      "Epoch 45 of 50\n",
      "  training loss:\t\t0.114259\n",
      "  validation loss:\t\t0.087675\n",
      "  validation Pearson r:\t\t0.950698\n",
      "  Lower validation loss found. Saving parameters to: ../results/epistasis/mlp\n",
      "Epoch 46 of 50\n",
      "  training loss:\t\t0.110329\n",
      "  validation loss:\t\t0.086596\n",
      "  validation Pearson r:\t\t0.951452\n",
      "  Lower validation loss found. Saving parameters to: ../results/epistasis/mlp\n"
     ]
    },
    {
     "name": "stdout",
     "output_type": "stream",
     "text": [
      "Epoch 47 of 50\n",
      "  training loss:\t\t0.108724\n",
      "  validation loss:\t\t0.085820\n",
      "  validation Pearson r:\t\t0.952241\n",
      "  Lower validation loss found. Saving parameters to: ../results/epistasis/mlp\n",
      "Epoch 48 of 50\n",
      "  training loss:\t\t0.110836\n",
      "  validation loss:\t\t0.085244\n",
      "  validation Pearson r:\t\t0.951851\n",
      "  Lower validation loss found. Saving parameters to: ../results/epistasis/mlp\n",
      "Epoch 49 of 50\n",
      "  training loss:\t\t0.110364\n",
      "  validation loss:\t\t0.084088\n",
      "  validation Pearson r:\t\t0.952664\n",
      "  Lower validation loss found. Saving parameters to: ../results/epistasis/mlp\n",
      "Epoch 50 of 50\n",
      "  training loss:\t\t0.110257\n",
      "  validation loss:\t\t0.083850\n",
      "  validation Pearson r:\t\t0.953591\n",
      "  Lower validation loss found. Saving parameters to: ../results/epistasis/mlp\n"
     ]
    }
   ],
   "source": [
    "# path to save model parameters\n",
    "save_path = '../results/epistasis'\n",
    "if not os.path.isdir(save_path):\n",
    "    os.mkdir(save_path)\n",
    "    print(\"making directory: \" + save_path)\n",
    "params_path = os.path.join(save_path, 'mlp')\n",
    "    \n",
    "    \n",
    "num_epochs = 50        # maximum number of epochs\n",
    "batch_size = 100         # mini-batch size for a parameter update\n",
    "patience = 10         # number of epochs to wait for a lower validation loss to be found. \n",
    "num_train_batches = X_train.shape[0] // batch_size\n",
    "\n",
    "# training loop\n",
    "wait = 0\n",
    "min_loss = 1e10\n",
    "for epoch in range(num_epochs):\n",
    "\n",
    "    # make a batch ganerator for the training data\n",
    "    train_batches = batch_generator(X_train, Y_train, batch_size, shuffle=True)\n",
    "\n",
    "    # loop over training batches\n",
    "    train_loss = 0\n",
    "    for index in range(num_train_batches):\n",
    "        # get a mini-batch\n",
    "        x_batch, y_batch = next(train_batches)\n",
    "        \n",
    "        # update over a mini-batch\n",
    "        loss, _ = sess.run([loss_function, update_vars], \n",
    "                           feed_dict={inputs: x_batch, \n",
    "                                      targets: y_batch, \n",
    "                                      keep_prob: 0.5}\n",
    "                          )\n",
    "        train_loss += loss\n",
    "        \n",
    "    # check progress on validation set\n",
    "    valid_loss, valid_predict = sess.run([loss_function, predictions], \n",
    "                                         feed_dict={inputs: X_valid, \n",
    "                                                    targets: Y_valid, \n",
    "                                                    keep_prob: 1.0}\n",
    "                                        )\n",
    "\n",
    "    # calculate performance metrics\n",
    "    pearsonr = np.corrcoef(Y_valid[:,0], valid_predict[:,0])[0][1]\n",
    "\n",
    "    print(\"Epoch {} of {}\".format(epoch+1, num_epochs))\n",
    "    print(\"  training loss:\\t\\t{:.6f}\".format(train_loss/num_train_batches))\n",
    "    print(\"  validation loss:\\t\\t{:.6f}\".format(valid_loss))\n",
    "    print(\"  validation Pearson r:\\t\\t{:.6f}\".format(pearsonr))\n",
    "    \n",
    "    \n",
    "    # check if current validation loss is lower, if so, save parameters, if not check patience\n",
    "    if valid_loss < min_loss:\n",
    "        print(\"  Lower validation loss found. Saving parameters to: \"+params_path)\n",
    "        \n",
    "        # save model parameters\n",
    "        saver = tf.train.Saver()\n",
    "        saver.save(sess, save_path=params_path)\n",
    "        \n",
    "        # set minimum loss to the current validation loss\n",
    "        min_loss = valid_loss\n",
    "        \n",
    "        # reset wait time\n",
    "        wait = 0\n",
    "    else:\n",
    "        \n",
    "        # add to wait time\n",
    "        wait += 1\n",
    "        \n",
    "        # check to see if patience has run out\n",
    "        if wait == patience:\n",
    "            print(\"Patience ran out... early stopping!\")\n",
    "            break"
   ]
  },
  {
   "cell_type": "markdown",
   "metadata": {},
   "source": [
    "####  let's close the session, so we can walk through an example of how to load the parameters"
   ]
  },
  {
   "cell_type": "code",
   "execution_count": 14,
   "metadata": {},
   "outputs": [],
   "source": [
    "# close tensorflow session (Note, the graph is still open)\n",
    "sess.close()"
   ]
  },
  {
   "cell_type": "markdown",
   "metadata": {},
   "source": [
    "# we can restore the parameters to our graph"
   ]
  },
  {
   "cell_type": "code",
   "execution_count": 16,
   "metadata": {},
   "outputs": [
    {
     "name": "stdout",
     "output_type": "stream",
     "text": [
      "INFO:tensorflow:Restoring parameters from ../results/epistasis/mlp\n"
     ]
    }
   ],
   "source": [
    "# create a new session\n",
    "sess = tf.Session()\n",
    "sess.run(tf.global_variables_initializer())\n",
    "\n",
    "# path to save results\n",
    "save_path = '../results/epistasis'\n",
    "params_path = os.path.join(save_path, 'mlp')\n",
    "\n",
    "# restore trained parameters\n",
    "saver = tf.train.Saver()\n",
    "saver.restore(sess, save_path=params_path)"
   ]
  },
  {
   "cell_type": "markdown",
   "metadata": {},
   "source": [
    "# Now let's test our trained model"
   ]
  },
  {
   "cell_type": "code",
   "execution_count": 17,
   "metadata": {},
   "outputs": [
    {
     "name": "stdout",
     "output_type": "stream",
     "text": [
      "  validation loss:\t\t0.079236\n",
      "  validation Pearson r:\t\t0.963289\n"
     ]
    }
   ],
   "source": [
    "# test model\n",
    "test_loss, test_predict = sess.run([loss_function, predictions], \n",
    "                                     feed_dict={inputs: X_test, \n",
    "                                                targets: Y_test, \n",
    "                                                keep_prob: 1.0})\n",
    "\n",
    "# calculate performance metrics\n",
    "pearsonr = np.corrcoef(Y_test[:,0], test_predict[:,0])[0][1]\n",
    "\n",
    "\n",
    "print(\"  validation loss:\\t\\t{:.6f}\".format(test_loss))\n",
    "print(\"  validation Pearson r:\\t\\t{:.6f}\".format(pearsonr))"
   ]
  },
  {
   "cell_type": "markdown",
   "metadata": {},
   "source": [
    "# scatter plot of prediction and experimental values"
   ]
  },
  {
   "cell_type": "code",
   "execution_count": 18,
   "metadata": {},
   "outputs": [
    {
     "data": {
      "text/plain": [
       "[<matplotlib.lines.Line2D at 0x7f7e3cb31850>]"
      ]
     },
     "execution_count": 18,
     "metadata": {},
     "output_type": "execute_result"
    },
    {
     "data": {
      "image/png": "[encoded data removed]",
      "text/plain": [
       "<matplotlib.figure.Figure at 0x7f7e3f929290>"
      ]
     },
     "metadata": {},
     "output_type": "display_data"
    }
   ],
   "source": [
    "plt.figure()\n",
    "plt.scatter(test_predict[:,0], Y_test[:,0], alpha=0.2)\n",
    "plt.xlabel('predictions', fontsize=14)\n",
    "plt.ylabel('experiment', fontsize=14)\n",
    "plt.plot([-5,20],[-5,20],'--r')"
   ]
  },
  {
   "cell_type": "markdown",
   "metadata": {},
   "source": [
    "# Let's generate a saliency map\n",
    "\n",
    "To calculate a saliency map, we need to calculate the derivative of the output neuron with respect to the inputs.  Luckily, tensorflow makes this easy because it calculates gradients using automatic differentiation.  We can calculate the gradient with the function tf.gradients.  This method constructs partial derivatives of ys w.r.t. x in xs. ys and xs are each a Tensor or a list of tensors. \n",
    "\n",
    "tf.gradients(\n",
    "    ys,\n",
    "    xs,\n",
    "    grad_ys=None,\n",
    "    name='gradients',\n",
    "    colocate_gradients_with_ops=False,\n",
    "    gate_gradients=False,\n",
    "    aggregation_method=None,\n",
    "    stop_gradients=None\n",
    ")"
   ]
  },
  {
   "cell_type": "code",
   "execution_count": 33,
   "metadata": {},
   "outputs": [
    {
     "data": {
      "image/png": "[encoded data removed]",
      "text/plain": [
       "<matplotlib.figure.Figure at 0x7f7dfc136f90>"
      ]
     },
     "metadata": {},
     "output_type": "display_data"
    }
   ],
   "source": [
    "# let's get the highest predicted sequence \n",
    "max_index = np.argsort(test_predict[:,0])[::-1]\n",
    "\n",
    "# get sequence\n",
    "index = 2\n",
    "X = np.expand_dims(X_test[max_index[index]], axis=0)\n",
    "\n",
    "# calculate the gradients to the inputs\n",
    "grad_to_inputs = tf.gradients(predictions, inputs)\n",
    "\n",
    "# run the session to calculate the saliency map for a given sequence X\n",
    "backprop_saliency = sess.run(grad_to_inputs, feed_dict={inputs: X, \n",
    "                                                        keep_prob: 1.0})\n",
    "\n",
    "\n",
    "# plot a heat map of the saliency values (each row is a different amino acid from the one-hot definition)\n",
    "plt.figure()\n",
    "plt.imshow(backprop_saliency[0][0], interpolation='None', cmap='bwr')\n",
    "plt.colorbar()\n",
    "plt.yticks(range(20), alphabet)\n",
    "plt.xticks(range(4));"
   ]
  },
  {
   "cell_type": "markdown",
   "metadata": {},
   "source": [
    "# Where to go from here\n",
    "\n",
    "###  official tutorials\n",
    "\n",
    "https://www.tensorflow.org/tutorials/\n",
    "\n",
    "\n",
    "### lower-level APIs\n",
    "\n",
    "https://www.tensorflow.org/api_docs/python/tf/nn\n",
    "\n",
    "\n",
    "### Layers \n",
    "    \n",
    "https://www.tensorflow.org/api_docs/python/tf/layers\n",
    "  \n",
    "* tf.nn.layers.conv2d()\n",
    "* tf.nn.layers.dense\n",
    "* tf.nn.layers.dropout\n",
    "* tf.nn.layers.max_pooling2d\n",
    "* tf.nn.layers.batch_normalization\n",
    "\n",
    "\n",
    "### alternative \n",
    "\n",
    "* tf.contrib.layers\n",
    "* tf.keras.layers"
   ]
  },
  {
   "cell_type": "code",
   "execution_count": null,
   "metadata": {},
   "outputs": [],
   "source": []
  }
 ],
 "metadata": {
  "kernelspec": {
   "display_name": "Python 2",
   "language": "python",
   "name": "python2"
  },
  "language_info": {
   "codemirror_mode": {
    "name": "ipython",
    "version": 2
   },
   "file_extension": ".py",
   "mimetype": "text/x-python",
   "name": "python",
   "nbconvert_exporter": "python",
   "pygments_lexer": "ipython2",
   "version": "2.7.12"
  }
 },
 "nbformat": 4,
 "nbformat_minor": 2
}
