{
 "cells": [
  {
   "cell_type": "markdown",
   "metadata": {},
   "source": [
    "# Transcription factor binding analysis with convolutional networks\n",
    "\n",
    "In this tutorial, we will walk through a simple tensorflow example of how to build, train, and evaluate a convolutional neural network for a common supervised classification learning task of predicting whether or not a TF binds to a given sequence. "
   ]
  },
  {
   "cell_type": "code",
   "execution_count": 1,
   "metadata": {},
   "outputs": [
    {
     "name": "stderr",
     "output_type": "stream",
     "text": [
      "/Users/eddy_lab/tensorflow/lib/python2.7/site-packages/h5py/__init__.py:36: FutureWarning: Conversion of the second argument of issubdtype from `float` to `np.floating` is deprecated. In future, it will be treated as `np.float64 == np.dtype(float).type`.\n",
      "  from ._conv import register_converters as _register_converters\n"
     ]
    }
   ],
   "source": [
    "from __future__ import absolute_import\n",
    "from __future__ import division\n",
    "from __future__ import print_function\n",
    "\n",
    "import os, sys, h5py\n",
    "import numpy as np\n",
    "from sklearn.metrics import roc_curve, auc\n",
    "import matplotlib.pyplot as plt\n",
    "%matplotlib inline\n",
    "\n",
    "import tensorflow as tf"
   ]
  },
  {
   "cell_type": "markdown",
   "metadata": {},
   "source": [
    "# load CTCF dataset\n",
    "\n",
    "CTCF conservative narrow peaks were downloaded from the ENCODE database:\n",
    "https://www.encodeproject.org/experiments/ENCSR000BIE/\n",
    "\n",
    "!wget https://www.encodeproject.org/files/ENCFF252PLM/@@download/ENCFF252PLM.bed.gz\n",
    "\n",
    "The peaks were processed with a script (process_chip.py), whose steps include:\n",
    "    1. enforce a constant window about each peak (window size = 100 nts)\n",
    "    2. employ bedtools to extract sequences from GRC38 reference genome\n",
    "    3. filter sequences which contain `N' characters\n",
    "    4. convert sequences into a one-hot representation\n",
    "    5. generate background sequences by performing a dinucleotide shuffle using meme\n",
    "    6. combine and shuffles positive and negative sequences\n",
    "    7. create a label vector with either a one for sequences that has a ChIP-seq peak and a zero for di-nuc shuffled sequences\n",
    "    8. split the dataset into a training set, validation set, and test set\n",
    "    9. save dataset to a hdf5 file"
   ]
  },
  {
   "cell_type": "code",
   "execution_count": 2,
   "metadata": {},
   "outputs": [],
   "source": [
    "# path to dataset \n",
    "data_file_path = '../data/CTCF_100.h5'\n",
    "\n",
    "# load dataset\n",
    "dataset = h5py.File(data_file_path, 'r')\n",
    "X_train = np.array(dataset['X_train']).astype(np.float32)\n",
    "Y_train = np.array(dataset['Y_train']).astype(np.float32)\n",
    "X_valid = np.array(dataset['X_valid']).astype(np.float32)\n",
    "Y_valid = np.array(dataset['Y_valid']).astype(np.float32)\n",
    "X_test = np.array(dataset['X_test']).astype(np.float32)\n",
    "Y_test = np.array(dataset['Y_test']).astype(np.float32)\n",
    "\n",
    "# add another dimension to make it a 4D tensor and \n",
    "# transpose dimensions so that it matches convolutional layer inputs:\n",
    "#                  (batch size, sequence length, 1, nucleotide channels)\n",
    "#    Note: adding an additional dimension is required because we will be using 2D convolution functions,\n",
    "#          because tensorflow doesn't support a lot of functions for 1D sequences.  Effectively, its like\n",
    "#          treating second dimension as an image with one pixel in one axis.\n",
    "X_train = np.expand_dims(X_train, axis=3).transpose([0, 2, 3, 1])\n",
    "X_test = np.expand_dims(X_test, axis=3).transpose([0, 2, 3, 1])\n",
    "X_valid = np.expand_dims(X_valid, axis=3).transpose([0, 2, 3, 1])\n",
    "\n",
    "# get shapes of data\n",
    "num_data, seq_length, _, dims = X_train.shape"
   ]
  },
  {
   "cell_type": "markdown",
   "metadata": {},
   "source": [
    "# build our convolutional neural network model \n",
    "\n",
    "Our model will be similar to DeepBind: one convolutional layer, one fully-connected hidden layer, followed by an output layer.  "
   ]
  },
  {
   "cell_type": "markdown",
   "metadata": {},
   "source": [
    "### Reset graphs \n",
    "\n",
    "This is necessary if you accidentally build multiple graphs, then the other graphs will also save as will the other graph's parameters. "
   ]
  },
  {
   "cell_type": "code",
   "execution_count": 3,
   "metadata": {},
   "outputs": [],
   "source": [
    "tf.reset_default_graph()"
   ]
  },
  {
   "cell_type": "markdown",
   "metadata": {},
   "source": [
    "### create placeholders  \n",
    "\n",
    "placeholders allow us to input data into the graph. "
   ]
  },
  {
   "cell_type": "code",
   "execution_count": 4,
   "metadata": {},
   "outputs": [],
   "source": [
    "# create a placeholder for the data\n",
    "inputs = tf.placeholder(tf.float32, shape=[None, seq_length, 1, dims], name='inputs')\n",
    "\n",
    "# create placeholder for labels \n",
    "targets = tf.placeholder(tf.float32, shape=[None, 1], name='targets')"
   ]
  },
  {
   "cell_type": "markdown",
   "metadata": {},
   "source": [
    " A shape of None means that it is variable.  This is useful so that we can change the batch size to whatever we want during run time.\n",
    " \n",
    " Now, we are going to be instantiating tensorflow variables.  To do so, we need to initialize them.  A standard initialization used for neural networks is He-inits and Glorot-inits.  Here, we will use he inits.  Let's define a function for He-inits for the parameters and constant-inits for the bias terms."
   ]
  },
  {
   "cell_type": "code",
   "execution_count": 3,
   "metadata": {},
   "outputs": [],
   "source": [
    "# functions for initializations also known as inits\n",
    "def he_init(shape, fan_in):\n",
    "    \"\"\"He inits are designed for neural networks that employ ReLU activations.\"\"\"\n",
    "    # fan_in is the number of neurons going into the layer\n",
    "    stddev = np.sqrt(2.6/fan_in)\n",
    "    return tf.truncated_normal(shape=shape, mean=0.0, stddev=stddev, dtype=tf.float32)\n",
    "\n",
    "def const_init(shape, value=0.0):\n",
    "    \"\"\"constant inits are useful for bias terms\"\"\"\n",
    "    return tf.constant(shape=shape, value=value, dtype=tf.float32)"
   ]
  },
  {
   "cell_type": "markdown",
   "metadata": {},
   "source": [
    "#### Convolutional layer"
   ]
  },
  {
   "cell_type": "code",
   "execution_count": 6,
   "metadata": {},
   "outputs": [],
   "source": [
    "# build the first convolutional layer\n",
    "num_filters = 16\n",
    "filter_size = 19\n",
    "strides = 1\n",
    "\n",
    "# shape = [1st dim size, 2nd dim size, # of incoming channels, # of outgoing channels]\n",
    "shape = [filter_size, 1, dims, num_filters]\n",
    "W_inits = he_init(shape=shape, fan_in=dims*seq_length)\n",
    "W1 = tf.Variable(W_inits, name='W1', trainable=True) \n",
    "\n",
    "# perform convolution\n",
    "conv_1 = tf.nn.conv2d(inputs, \n",
    "                      filter=W1,                   # initialized filter variable\n",
    "                      strides=[1, strides, 1, 1],  # strides performs the step size of the convolution \n",
    "                      padding='SAME')              # padding is either 'SAME' or 'VALID'"
   ]
  },
  {
   "cell_type": "markdown",
   "metadata": {},
   "source": [
    "Now we can add a bias term for each filter and perform a non-linear activation with a rectified linear unit."
   ]
  },
  {
   "cell_type": "code",
   "execution_count": 7,
   "metadata": {},
   "outputs": [],
   "source": [
    "# initialize bias\n",
    "b_inits = const_init(shape=[num_filters], value=0.01)  \n",
    "b1 = tf.Variable(b_inits, name='b1')   # trainable=True is default \n",
    "\n",
    "# add bias term\n",
    "conv_1_bias = tf.nn.bias_add(conv_1, b1)\n",
    "\n",
    "# perform non-linear activation\n",
    "conv_1_active = tf.nn.relu(conv_1_bias)"
   ]
  },
  {
   "cell_type": "markdown",
   "metadata": {},
   "source": [
    "#### Max-pool layer"
   ]
  },
  {
   "cell_type": "code",
   "execution_count": 8,
   "metadata": {},
   "outputs": [],
   "source": [
    "# downsample data with max-pooling\n",
    "pool_size = 25\n",
    "conv_1_pool = tf.nn.max_pool(conv_1, \n",
    "                             ksize=(1,pool_size,1,1),     # pool size\n",
    "                             strides=(1,pool_size,1,1),   # strides sets the step size of the windows\n",
    "                             padding='SAME')              # padding is either 'SAME' or 'VALID'"
   ]
  },
  {
   "cell_type": "markdown",
   "metadata": {},
   "source": [
    "Fully-connected (dense) layers can be accomplished with a single matrix multiplication.  To do this, we need to reshape the 4D tensor into a 2D tensor.  "
   ]
  },
  {
   "cell_type": "code",
   "execution_count": 9,
   "metadata": {},
   "outputs": [],
   "source": [
    "# get number of input neurons\n",
    "num_incoming = np.prod(conv_1_pool.get_shape()[1:]).value\n",
    "\n",
    "# reshape convolutional outputs to a vector\n",
    "conv_1_flat = tf.reshape(conv_1_pool, shape=(-1,num_incoming))"
   ]
  },
  {
   "cell_type": "markdown",
   "metadata": {},
   "source": [
    "#### fully-connected hidden layer"
   ]
  },
  {
   "cell_type": "code",
   "execution_count": 10,
   "metadata": {},
   "outputs": [],
   "source": [
    "# build a fully-connected layer (also known as a dense layer)\n",
    "num_units = 32\n",
    "W2 = tf.Variable(he_init(shape=[num_incoming, num_units], fan_in=num_incoming), name='W2')\n",
    "dense_2 = tf.matmul(conv_1_flat, W2)\n",
    "\n",
    "# add bias term\n",
    "b2 = tf.Variable(const_init(shape=[num_units], value=0.01), name='b2')\n",
    "dense_2_bias = tf.nn.bias_add(dense_2, b2)\n",
    "\n",
    "# perform activation\n",
    "dense_2_active = tf.nn.relu(dense_2_bias)"
   ]
  },
  {
   "cell_type": "markdown",
   "metadata": {},
   "source": [
    "#### fully-connected output layer"
   ]
  },
  {
   "cell_type": "code",
   "execution_count": 12,
   "metadata": {},
   "outputs": [],
   "source": [
    "# build a fully-connected layer (also known as a dense layer)\n",
    "W3 = tf.Variable(he_init(shape=[num_units, 1], fan_in=num_units), name='W3')\n",
    "dense_3 = tf.matmul(dense_2_active, W3)\n",
    "\n",
    "# add bias term\n",
    "b3 = tf.Variable(const_init(shape=[1], value=0.01), name='b3')\n",
    "dense_3_bias = tf.nn.bias_add(dense_3, b3)\n",
    "\n",
    "# make binary predictions\n",
    "predictions = tf.nn.sigmoid(dense_3_bias)"
   ]
  },
  {
   "cell_type": "markdown",
   "metadata": {},
   "source": [
    "# build loss function"
   ]
  },
  {
   "cell_type": "code",
   "execution_count": 13,
   "metadata": {},
   "outputs": [],
   "source": [
    "# calculate binary cross-entropy loss function\n",
    "eps = 1e-10\n",
    "binary_cross_entropy = targets*tf.log(predictions + eps) + (1 - targets)*tf.log(1 - predictions + eps)\n",
    "\n",
    "# let's calculate the average across classes, i.e. tf.reduce_sum, which is not necessary for this dataset (1 class)\n",
    "log_likelihood = tf.reduce_sum(binary_cross_entropy, axis=1)\n",
    "\n",
    "# let's calculate the mean negative log-likelihood within a mini-batch\n",
    "loss_function = tf.reduce_mean(-log_likelihood)"
   ]
  },
  {
   "cell_type": "markdown",
   "metadata": {},
   "source": [
    "# build optimizer"
   ]
  },
  {
   "cell_type": "code",
   "execution_count": 14,
   "metadata": {},
   "outputs": [],
   "source": [
    "# get a list of all trainable variables\n",
    "trainable_vars = tf.trainable_variables()\n",
    "\n",
    "# setup optimizer\n",
    "optimizer = tf.train.AdamOptimizer(learning_rate=0.0003, \n",
    "                                   beta1=0.9, \n",
    "                                   beta2=0.999)\n",
    "\n",
    "# setup an op to update the parameters --> calculates gradients and update parameters\n",
    "update_vars = optimizer.minimize(loss_function, var_list=trainable_vars)"
   ]
  },
  {
   "cell_type": "markdown",
   "metadata": {},
   "source": [
    "# create a session"
   ]
  },
  {
   "cell_type": "code",
   "execution_count": 15,
   "metadata": {},
   "outputs": [],
   "source": [
    "sess = tf.Session()"
   ]
  },
  {
   "cell_type": "markdown",
   "metadata": {},
   "source": [
    "## Initialize all variables"
   ]
  },
  {
   "cell_type": "code",
   "execution_count": 16,
   "metadata": {},
   "outputs": [],
   "source": [
    "sess.run(tf.global_variables_initializer())"
   ]
  },
  {
   "cell_type": "markdown",
   "metadata": {},
   "source": [
    "# train the neural network\n",
    "\n",
    "We want to train our CNN model with mini-batch stochastic gradient descent.  So, we need a way to generate mini-batches of data. An effective strategy for training is to shuffle the dataset between each epoch. So, let's define a function to generate shuffled mini-batches. "
   ]
  },
  {
   "cell_type": "code",
   "execution_count": 17,
   "metadata": {},
   "outputs": [],
   "source": [
    "def batch_generator(X, y, batch_size=128, shuffle=True):\n",
    "    if shuffle:\n",
    "        indices = np.arange(len(X))\n",
    "        np.random.shuffle(indices)\n",
    "    for start_idx in range(0, len(X)-batch_size+1, batch_size):\n",
    "        if shuffle:\n",
    "            excerpt = indices[start_idx:start_idx+batch_size]\n",
    "        else:\n",
    "            excerpt = slice(start_idx, start_idx+batch_size)\n",
    "        yield X[excerpt].astype(np.float32), y[excerpt].astype(np.float32)"
   ]
  },
  {
   "cell_type": "code",
   "execution_count": 18,
   "metadata": {
    "scrolled": true
   },
   "outputs": [
    {
     "name": "stdout",
     "output_type": "stream",
     "text": [
      "Epoch 1 of 10\n",
      "  training loss:\t\t0.600256\n",
      "  validation loss:\t\t0.460961\n",
      "  validation AU-ROC:\t\t0.874947\n",
      "Epoch 2 of 10\n",
      "  training loss:\t\t0.397810\n",
      "  validation loss:\t\t0.373374\n",
      "  validation AU-ROC:\t\t0.918676\n",
      "Epoch 3 of 10\n",
      "  training loss:\t\t0.343605\n",
      "  validation loss:\t\t0.341891\n",
      "  validation AU-ROC:\t\t0.929896\n",
      "Epoch 4 of 10\n",
      "  training loss:\t\t0.320468\n",
      "  validation loss:\t\t0.319317\n",
      "  validation AU-ROC:\t\t0.937515\n",
      "Epoch 5 of 10\n",
      "  training loss:\t\t0.301584\n",
      "  validation loss:\t\t0.304167\n",
      "  validation AU-ROC:\t\t0.943135\n",
      "Epoch 6 of 10\n",
      "  training loss:\t\t0.287546\n",
      "  validation loss:\t\t0.295668\n",
      "  validation AU-ROC:\t\t0.947200\n",
      "Epoch 7 of 10\n",
      "  training loss:\t\t0.275340\n",
      "  validation loss:\t\t0.282530\n",
      "  validation AU-ROC:\t\t0.950740\n",
      "Epoch 8 of 10\n",
      "  training loss:\t\t0.265386\n",
      "  validation loss:\t\t0.275941\n",
      "  validation AU-ROC:\t\t0.952965\n",
      "Epoch 9 of 10\n",
      "  training loss:\t\t0.257211\n",
      "  validation loss:\t\t0.284340\n",
      "  validation AU-ROC:\t\t0.955038\n",
      "Epoch 10 of 10\n",
      "  training loss:\t\t0.250348\n",
      "  validation loss:\t\t0.264061\n",
      "  validation AU-ROC:\t\t0.956954\n"
     ]
    }
   ],
   "source": [
    "# training parameters\n",
    "num_epochs = 10        # maximum number of epochs\n",
    "batch_size = 100         # mini-batch size for a parameter update\n",
    "num_train_batches = X_train.shape[0] // batch_size\n",
    "\n",
    "# training loop\n",
    "for epoch in range(num_epochs):\n",
    "\n",
    "    # make a batch ganerator for the training data\n",
    "    train_batches = batch_generator(X_train, Y_train, batch_size, shuffle=True)\n",
    "\n",
    "    # loop over training batches\n",
    "    train_loss = 0\n",
    "    for index in range(num_train_batches):\n",
    "        \n",
    "        # get a new mini-batch\n",
    "        x_batch, y_batch = next(train_batches)\n",
    "        \n",
    "        # update over a mini-batch\n",
    "        loss, _ = sess.run([loss_function, update_vars], \n",
    "                           feed_dict={inputs: x_batch, targets: y_batch})\n",
    "        \n",
    "        # calculate running sum of loss\n",
    "        train_loss += loss\n",
    "        \n",
    "    # calculate loss and predictions on validation set\n",
    "    valid_loss, valid_predict = sess.run([loss_function, predictions], \n",
    "                                         feed_dict={inputs: X_valid, targets: Y_valid})\n",
    "\n",
    "    # calculate performance metrics\n",
    "    fpr, tpr, thresholds = roc_curve(Y_valid[:,0], valid_predict[:,0])\n",
    "    score = auc(fpr, tpr)\n",
    "\n",
    "    # print progress\n",
    "    print(\"Epoch {} of {}\".format(epoch+1, num_epochs))\n",
    "    print(\"  training loss:\\t\\t{:.6f}\".format(train_loss/num_train_batches))\n",
    "    print(\"  validation loss:\\t\\t{:.6f}\".format(valid_loss))\n",
    "    print(\"  validation AU-ROC:\\t\\t{:.6f}\".format(score))"
   ]
  },
  {
   "cell_type": "code",
   "execution_count": 19,
   "metadata": {},
   "outputs": [],
   "source": [
    "sess.close()"
   ]
  },
  {
   "cell_type": "markdown",
   "metadata": {},
   "source": [
    "One major drawback to the way we were training previously is that we have to determine an arbitrary number of epochs to train, at which the nerual network can start to overfit, leading to a poorer performance on the validation dataset.  One way around this is to save the model parameters after each epoch and label it with the validation loss, so that we know which set of paramters performs the best.  Another strategy is to only save the parameters when the performance on the validation set is improved, i.e. lower loss value.  We can also stop training earlier when the validation performance doesn't improve for a set number of epochs, known as patience.  \n",
    "\n",
    "\n",
    "# Train neural network with early stopping  -- saving parameters along the way\n",
    "\n",
    "Also, the previous model was just a toy model.  Let's build the same model but also include dropout and L2-regularization to improve performance.  "
   ]
  },
  {
   "cell_type": "code",
   "execution_count": 18,
   "metadata": {},
   "outputs": [],
   "source": [
    "# reset graphs --> this is necessary if you accidentally build multiple graphs, \n",
    "#                  then the other graphs will also save as will the other graph's parameters. \n",
    "tf.reset_default_graph()\n",
    "tf.set_random_seed(247)\n",
    "\n",
    "# create a placeholder for the data\n",
    "inputs = tf.placeholder(tf.float32, shape=[None, seq_length, 1, dims], name='inputs')\n",
    "\n",
    "# build the first convolutional layer\n",
    "num_filters = 16\n",
    "filter_size = 19\n",
    "strides = 1\n",
    "W1 = tf.Variable(he_init(shape=[filter_size, 1, dims, num_filters], fan_in=dims*seq_length), name='W1')\n",
    "b1 = tf.Variable(const_init(shape=[num_filters], value=0.01), name='b1')\n",
    "conv_1 = tf.nn.conv2d(inputs, \n",
    "                      filter=W1, \n",
    "                      strides=[1, strides, 1, 1], \n",
    "                      padding='SAME')\n",
    "\n",
    "# add bias term\n",
    "conv_1_bias = tf.nn.bias_add(conv_1, b1)\n",
    "\n",
    "# perform activation\n",
    "conv_1_active = tf.nn.relu(conv_1_bias)\n",
    "\n",
    "# downsample data with max-pooling\n",
    "pool_size = 25\n",
    "conv_1_pool = tf.nn.max_pool(conv_1, \n",
    "                             ksize=(1,pool_size,1,1), \n",
    "                             strides=(1,pool_size,1,1), \n",
    "                             padding='SAME')\n",
    "\n",
    "# add dropout -- note that keep prob is a placeholder.  \n",
    "#This allows us to set different levels of dropout during training and testing\n",
    "keep_prob_conv = tf.placeholder(tf.float32, name='keep_prob_conv')\n",
    "conv_1_dropout = tf.nn.dropout(conv_1_pool, keep_prob=keep_prob_conv)\n",
    "\n",
    "# get number of input neurons\n",
    "num_incoming = np.prod(conv_1_dropout.get_shape()[1:]).value\n",
    "\n",
    "# reshape convolutional outputs to a vector\n",
    "conv_1_flat = tf.reshape(conv_1_dropout, shape=(-1,num_incoming))\n",
    "\n",
    "# build a fully-connected layer (also known as a dense layer)\n",
    "num_units = 64\n",
    "W2 = tf.Variable(he_init(shape=[num_incoming, num_units], fan_in=num_incoming), name='W2')\n",
    "b2 = tf.Variable(const_init(shape=[num_units], value=0.01), name='b2')\n",
    "dense_1 = tf.matmul(conv_1_flat, W2)\n",
    "\n",
    "# add bias term\n",
    "dense_1_bias = tf.nn.bias_add(dense_1, b2)\n",
    "\n",
    "# perform activation\n",
    "dense_1_active = tf.nn.relu(dense_1_bias)\n",
    "\n",
    "\n",
    "keep_prob_dense = tf.placeholder(tf.float32, name='keep_prob_dense')\n",
    "dense_1_active_dropout = tf.nn.dropout(dense_1_active, keep_prob=keep_prob_dense)\n",
    "\n",
    "# build a fully-connected layer (also known as a dense layer)\n",
    "W3 = tf.Variable(he_init(shape=[num_units, 1], fan_in=num_units), name='W3')\n",
    "b3 = tf.Variable(const_init(shape=[1], value=0.01), name='b3')\n",
    "dense_2 = tf.matmul(dense_1_active_dropout, W3)\n",
    "\n",
    "# add bias term\n",
    "dense_2_bias = tf.nn.bias_add(dense_2, b3)\n",
    "\n",
    "# make binary predictions\n",
    "predictions = tf.nn.sigmoid(dense_2_bias)\n"
   ]
  },
  {
   "cell_type": "markdown",
   "metadata": {},
   "source": [
    "# build optimizer"
   ]
  },
  {
   "cell_type": "code",
   "execution_count": 19,
   "metadata": {},
   "outputs": [],
   "source": [
    "# instantiate placeholder for labels \n",
    "targets = tf.placeholder(tf.float32, shape=[None, 1], name='targets')\n",
    "\n",
    "# calculate binary cross-entropy loss function\n",
    "eps = 1e-10\n",
    "binary_cross_entropy = targets*tf.log(predictions + eps) + (1 - targets)*tf.log(1 - predictions + eps)\n",
    "loss_function = tf.reduce_mean(-tf.reduce_sum(binary_cross_entropy, axis=1))\n",
    "    \n",
    "# get a list of all trainable variables\n",
    "trainable_vars = tf.trainable_variables()\n",
    "\n",
    "# flatten and concatenate all parameters for L2/L1 regularization\n",
    "all_params = []\n",
    "for param in trainable_vars:\n",
    "    all_params = tf.concat([all_params, tf.reshape(param, [-1,])], axis=0)\n",
    "    \n",
    "# calculate L2 regularization\n",
    "l2_strength = 1e-6\n",
    "loss_function += tf.reduce_sum(tf.square(all_params))*l2_strength\n",
    "\n",
    "# setup optimizer\n",
    "optimizer = tf.train.AdamOptimizer(learning_rate=0.0003, \n",
    "                                   beta1=0.9, \n",
    "                                   beta2=0.999)\n",
    "update_vars = optimizer.minimize(loss_function, var_list=trainable_vars)"
   ]
  },
  {
   "cell_type": "code",
   "execution_count": 20,
   "metadata": {},
   "outputs": [],
   "source": [
    "sess = tf.Session()\n",
    "sess.run(tf.global_variables_initializer())"
   ]
  },
  {
   "cell_type": "code",
   "execution_count": 21,
   "metadata": {
    "scrolled": false
   },
   "outputs": [
    {
     "name": "stdout",
     "output_type": "stream",
     "text": [
      "Epoch 1 of 50\n",
      "  training loss:\t\t0.676707\n",
      "  validation loss:\t\t0.563381\n",
      "  validation AU-ROC:\t\t0.847065\n",
      "  Lower validation loss found. Saving parameters to: ../results/CTCF/simple_cnn_rnacompete\n",
      "Epoch 2 of 50\n",
      "  training loss:\t\t0.453148\n",
      "  validation loss:\t\t0.356344\n",
      "  validation AU-ROC:\t\t0.925036\n",
      "  Lower validation loss found. Saving parameters to: ../results/CTCF/simple_cnn_rnacompete\n",
      "Epoch 3 of 50\n",
      "  training loss:\t\t0.352883\n",
      "  validation loss:\t\t0.311299\n",
      "  validation AU-ROC:\t\t0.942174\n",
      "  Lower validation loss found. Saving parameters to: ../results/CTCF/simple_cnn_rnacompete\n",
      "Epoch 4 of 50\n",
      "  training loss:\t\t0.322571\n",
      "  validation loss:\t\t0.292169\n",
      "  validation AU-ROC:\t\t0.948127\n",
      "  Lower validation loss found. Saving parameters to: ../results/CTCF/simple_cnn_rnacompete\n",
      "Epoch 5 of 50\n",
      "  training loss:\t\t0.305155\n",
      "  validation loss:\t\t0.281686\n",
      "  validation AU-ROC:\t\t0.952060\n",
      "  Lower validation loss found. Saving parameters to: ../results/CTCF/simple_cnn_rnacompete\n",
      "Epoch 6 of 50\n",
      "  training loss:\t\t0.292822\n",
      "  validation loss:\t\t0.270875\n",
      "  validation AU-ROC:\t\t0.954850\n",
      "  Lower validation loss found. Saving parameters to: ../results/CTCF/simple_cnn_rnacompete\n",
      "Epoch 7 of 50\n",
      "  training loss:\t\t0.285897\n",
      "  validation loss:\t\t0.264937\n",
      "  validation AU-ROC:\t\t0.956519\n",
      "  Lower validation loss found. Saving parameters to: ../results/CTCF/simple_cnn_rnacompete\n",
      "Epoch 8 of 50\n",
      "  training loss:\t\t0.278595\n",
      "  validation loss:\t\t0.261458\n",
      "  validation AU-ROC:\t\t0.957888\n",
      "  Lower validation loss found. Saving parameters to: ../results/CTCF/simple_cnn_rnacompete\n",
      "Epoch 9 of 50\n",
      "  training loss:\t\t0.271544\n",
      "  validation loss:\t\t0.256143\n",
      "  validation AU-ROC:\t\t0.959372\n",
      "  Lower validation loss found. Saving parameters to: ../results/CTCF/simple_cnn_rnacompete\n",
      "Epoch 10 of 50\n",
      "  training loss:\t\t0.269290\n",
      "  validation loss:\t\t0.253119\n",
      "  validation AU-ROC:\t\t0.960719\n",
      "  Lower validation loss found. Saving parameters to: ../results/CTCF/simple_cnn_rnacompete\n",
      "Epoch 11 of 50\n",
      "  training loss:\t\t0.263699\n",
      "  validation loss:\t\t0.247110\n",
      "  validation AU-ROC:\t\t0.962096\n",
      "  Lower validation loss found. Saving parameters to: ../results/CTCF/simple_cnn_rnacompete\n",
      "Epoch 12 of 50\n",
      "  training loss:\t\t0.261794\n",
      "  validation loss:\t\t0.245770\n",
      "  validation AU-ROC:\t\t0.962823\n",
      "  Lower validation loss found. Saving parameters to: ../results/CTCF/simple_cnn_rnacompete\n",
      "Epoch 13 of 50\n",
      "  training loss:\t\t0.254703\n",
      "  validation loss:\t\t0.241365\n",
      "  validation AU-ROC:\t\t0.964030\n",
      "  Lower validation loss found. Saving parameters to: ../results/CTCF/simple_cnn_rnacompete\n",
      "Epoch 14 of 50\n",
      "  training loss:\t\t0.253532\n",
      "  validation loss:\t\t0.239921\n",
      "  validation AU-ROC:\t\t0.964619\n",
      "  Lower validation loss found. Saving parameters to: ../results/CTCF/simple_cnn_rnacompete\n",
      "Epoch 15 of 50\n",
      "  training loss:\t\t0.250942\n",
      "  validation loss:\t\t0.236183\n",
      "  validation AU-ROC:\t\t0.965449\n",
      "  Lower validation loss found. Saving parameters to: ../results/CTCF/simple_cnn_rnacompete\n",
      "Epoch 16 of 50\n",
      "  training loss:\t\t0.248594\n",
      "  validation loss:\t\t0.233864\n",
      "  validation AU-ROC:\t\t0.966110\n",
      "  Lower validation loss found. Saving parameters to: ../results/CTCF/simple_cnn_rnacompete\n",
      "Epoch 17 of 50\n",
      "  training loss:\t\t0.246301\n",
      "  validation loss:\t\t0.233462\n",
      "  validation AU-ROC:\t\t0.966317\n",
      "  Lower validation loss found. Saving parameters to: ../results/CTCF/simple_cnn_rnacompete\n",
      "Epoch 18 of 50\n",
      "  training loss:\t\t0.244121\n",
      "  validation loss:\t\t0.234074\n",
      "  validation AU-ROC:\t\t0.967194\n",
      "Epoch 19 of 50\n",
      "  training loss:\t\t0.240049\n",
      "  validation loss:\t\t0.230405\n",
      "  validation AU-ROC:\t\t0.967439\n",
      "  Lower validation loss found. Saving parameters to: ../results/CTCF/simple_cnn_rnacompete\n",
      "Epoch 20 of 50\n",
      "  training loss:\t\t0.241482\n",
      "  validation loss:\t\t0.229230\n",
      "  validation AU-ROC:\t\t0.967474\n",
      "  Lower validation loss found. Saving parameters to: ../results/CTCF/simple_cnn_rnacompete\n",
      "Epoch 21 of 50\n",
      "  training loss:\t\t0.238799\n",
      "  validation loss:\t\t0.228639\n",
      "  validation AU-ROC:\t\t0.967700\n",
      "  Lower validation loss found. Saving parameters to: ../results/CTCF/simple_cnn_rnacompete\n",
      "Epoch 22 of 50\n",
      "  training loss:\t\t0.238438\n",
      "  validation loss:\t\t0.227407\n",
      "  validation AU-ROC:\t\t0.968087\n",
      "  Lower validation loss found. Saving parameters to: ../results/CTCF/simple_cnn_rnacompete\n",
      "Epoch 23 of 50\n",
      "  training loss:\t\t0.235507\n",
      "  validation loss:\t\t0.225673\n",
      "  validation AU-ROC:\t\t0.968545\n",
      "  Lower validation loss found. Saving parameters to: ../results/CTCF/simple_cnn_rnacompete\n",
      "Epoch 24 of 50\n",
      "  training loss:\t\t0.235465\n",
      "  validation loss:\t\t0.224803\n",
      "  validation AU-ROC:\t\t0.968791\n",
      "  Lower validation loss found. Saving parameters to: ../results/CTCF/simple_cnn_rnacompete\n",
      "Epoch 25 of 50\n",
      "  training loss:\t\t0.235826\n",
      "  validation loss:\t\t0.225415\n",
      "  validation AU-ROC:\t\t0.968649\n",
      "Epoch 26 of 50\n",
      "  training loss:\t\t0.234067\n",
      "  validation loss:\t\t0.226941\n",
      "  validation AU-ROC:\t\t0.969078\n",
      "Epoch 27 of 50\n",
      "  training loss:\t\t0.234795\n",
      "  validation loss:\t\t0.224944\n",
      "  validation AU-ROC:\t\t0.969350\n",
      "Epoch 28 of 50\n",
      "  training loss:\t\t0.232606\n",
      "  validation loss:\t\t0.223709\n",
      "  validation AU-ROC:\t\t0.969289\n",
      "  Lower validation loss found. Saving parameters to: ../results/CTCF/simple_cnn_rnacompete\n",
      "Epoch 29 of 50\n",
      "  training loss:\t\t0.232422\n",
      "  validation loss:\t\t0.228303\n",
      "  validation AU-ROC:\t\t0.969444\n",
      "Epoch 30 of 50\n",
      "  training loss:\t\t0.230666\n",
      "  validation loss:\t\t0.223106\n",
      "  validation AU-ROC:\t\t0.969353\n",
      "  Lower validation loss found. Saving parameters to: ../results/CTCF/simple_cnn_rnacompete\n",
      "Epoch 31 of 50\n",
      "  training loss:\t\t0.230144\n",
      "  validation loss:\t\t0.222874\n",
      "  validation AU-ROC:\t\t0.969672\n",
      "  Lower validation loss found. Saving parameters to: ../results/CTCF/simple_cnn_rnacompete\n",
      "Epoch 32 of 50\n",
      "  training loss:\t\t0.228446\n",
      "  validation loss:\t\t0.225914\n",
      "  validation AU-ROC:\t\t0.969544\n",
      "Epoch 33 of 50\n",
      "  training loss:\t\t0.230972\n",
      "  validation loss:\t\t0.221792\n",
      "  validation AU-ROC:\t\t0.969790\n",
      "  Lower validation loss found. Saving parameters to: ../results/CTCF/simple_cnn_rnacompete\n",
      "Epoch 34 of 50\n",
      "  training loss:\t\t0.230471\n",
      "  validation loss:\t\t0.223209\n",
      "  validation AU-ROC:\t\t0.969783\n",
      "Epoch 35 of 50\n",
      "  training loss:\t\t0.227635\n",
      "  validation loss:\t\t0.221726\n",
      "  validation AU-ROC:\t\t0.969950\n",
      "  Lower validation loss found. Saving parameters to: ../results/CTCF/simple_cnn_rnacompete\n",
      "Epoch 36 of 50\n",
      "  training loss:\t\t0.226389\n",
      "  validation loss:\t\t0.221070\n",
      "  validation AU-ROC:\t\t0.970016\n",
      "  Lower validation loss found. Saving parameters to: ../results/CTCF/simple_cnn_rnacompete\n",
      "Epoch 37 of 50\n",
      "  training loss:\t\t0.228907\n",
      "  validation loss:\t\t0.220775\n",
      "  validation AU-ROC:\t\t0.970281\n",
      "  Lower validation loss found. Saving parameters to: ../results/CTCF/simple_cnn_rnacompete\n",
      "Epoch 38 of 50\n",
      "  training loss:\t\t0.226609\n",
      "  validation loss:\t\t0.229441\n",
      "  validation AU-ROC:\t\t0.970353\n",
      "Epoch 39 of 50\n",
      "  training loss:\t\t0.225305\n",
      "  validation loss:\t\t0.225473\n",
      "  validation AU-ROC:\t\t0.970520\n",
      "Epoch 40 of 50\n",
      "  training loss:\t\t0.225548\n",
      "  validation loss:\t\t0.219162\n",
      "  validation AU-ROC:\t\t0.970539\n",
      "  Lower validation loss found. Saving parameters to: ../results/CTCF/simple_cnn_rnacompete\n",
      "Epoch 41 of 50\n",
      "  training loss:\t\t0.224793\n",
      "  validation loss:\t\t0.219829\n",
      "  validation AU-ROC:\t\t0.970271\n",
      "Epoch 42 of 50\n",
      "  training loss:\t\t0.223454\n",
      "  validation loss:\t\t0.219268\n",
      "  validation AU-ROC:\t\t0.970670\n",
      "Epoch 43 of 50\n",
      "  training loss:\t\t0.225250\n",
      "  validation loss:\t\t0.219319\n",
      "  validation AU-ROC:\t\t0.970476\n",
      "Epoch 44 of 50\n",
      "  training loss:\t\t0.224081\n",
      "  validation loss:\t\t0.218202\n",
      "  validation AU-ROC:\t\t0.970728\n",
      "  Lower validation loss found. Saving parameters to: ../results/CTCF/simple_cnn_rnacompete\n",
      "Epoch 45 of 50\n",
      "  training loss:\t\t0.224832\n",
      "  validation loss:\t\t0.219973\n",
      "  validation AU-ROC:\t\t0.970911\n",
      "Epoch 46 of 50\n",
      "  training loss:\t\t0.223931\n",
      "  validation loss:\t\t0.219844\n",
      "  validation AU-ROC:\t\t0.970685\n",
      "Epoch 47 of 50\n",
      "  training loss:\t\t0.222044\n",
      "  validation loss:\t\t0.221720\n",
      "  validation AU-ROC:\t\t0.971026\n",
      "Epoch 48 of 50\n",
      "  training loss:\t\t0.221964\n",
      "  validation loss:\t\t0.219511\n",
      "  validation AU-ROC:\t\t0.970982\n",
      "Epoch 49 of 50\n",
      "  training loss:\t\t0.221616\n",
      "  validation loss:\t\t0.216245\n",
      "  validation AU-ROC:\t\t0.971277\n",
      "  Lower validation loss found. Saving parameters to: ../results/CTCF/simple_cnn_rnacompete\n",
      "Epoch 50 of 50\n",
      "  training loss:\t\t0.219545\n",
      "  validation loss:\t\t0.216983\n",
      "  validation AU-ROC:\t\t0.971068\n"
     ]
    }
   ],
   "source": [
    "def batch_generator(X, y, batch_size=128, shuffle=True):\n",
    "    \"\"\"function to generate mini-batches of the data\"\"\"\n",
    "    if shuffle:\n",
    "        indices = np.arange(len(X))\n",
    "        np.random.shuffle(indices)\n",
    "    for start_idx in range(0, len(X)-batch_size+1, batch_size):\n",
    "        if shuffle:\n",
    "            excerpt = indices[start_idx:start_idx+batch_size]\n",
    "        else:\n",
    "            excerpt = slice(start_idx, start_idx+batch_size)\n",
    "        yield X[excerpt].astype(np.float32), y[excerpt].astype(np.float32)\n",
    "        \n",
    "        \n",
    "# path to save results\n",
    "save_path = '../results/CTCF'\n",
    "if not os.path.isdir(save_path):\n",
    "    os.mkdir(save_path)\n",
    "    print(\"making directory: \" + save_path)\n",
    "params_path = os.path.join(save_path, 'simple_cnn_rnacompete')\n",
    "    \n",
    "    \n",
    "num_epochs = 50        # maximum number of epochs\n",
    "batch_size = 100       # mini-batch size for a parameter update\n",
    "patience = 5           # number of epochs to wait for a lower validation loss to be found. \n",
    "num_train_batches = X_train.shape[0] // batch_size\n",
    "\n",
    "# training loop\n",
    "wait = 0\n",
    "min_loss = 1e10\n",
    "for epoch in range(num_epochs):\n",
    "\n",
    "    # make a batch ganerator for the training data\n",
    "    train_batches = batch_generator(X_train, Y_train, batch_size, shuffle=True)\n",
    "\n",
    "    # loop over training batches\n",
    "    train_loss = 0\n",
    "    for index in range(num_train_batches):\n",
    "        # get a mini-batch\n",
    "        x_batch, y_batch = next(train_batches)\n",
    "        \n",
    "        # update over a mini-batch\n",
    "        loss, _ = sess.run([loss_function, update_vars], \n",
    "                           feed_dict={inputs: x_batch, \n",
    "                                      targets: y_batch, \n",
    "                                      keep_prob_conv: 0.9, \n",
    "                                      keep_prob_dense: 0.6}\n",
    "                          )\n",
    "        train_loss += loss\n",
    "        \n",
    "    # calculate loss and predictions on validation set\n",
    "    valid_loss, valid_predict = sess.run([loss_function, predictions], \n",
    "                                         feed_dict={inputs: X_valid, \n",
    "                                                    targets: Y_valid, \n",
    "                                                    keep_prob_conv: 1.0, \n",
    "                                                    keep_prob_dense: 1.0}\n",
    "                                        )\n",
    "\n",
    "    # calculate performance metrics\n",
    "    fpr, tpr, thresholds = roc_curve(Y_valid[:,0], valid_predict[:,0])\n",
    "    score = auc(fpr, tpr)\n",
    "\n",
    "    # print progress\n",
    "    print(\"Epoch {} of {}\".format(epoch+1, num_epochs))\n",
    "    print(\"  training loss:\\t\\t{:.6f}\".format(train_loss/num_train_batches))\n",
    "    print(\"  validation loss:\\t\\t{:.6f}\".format(valid_loss))\n",
    "    print(\"  validation AU-ROC:\\t\\t{:.6f}\".format(score))\n",
    "    \n",
    "    # check if current validation loss is lower, if so, save parameters, if not check patience\n",
    "    if valid_loss < min_loss:\n",
    "        print(\"  Lower validation loss found. Saving parameters to: \"+params_path)\n",
    "        \n",
    "        # save model parameters\n",
    "        saver = tf.train.Saver()\n",
    "        saver.save(sess, save_path=params_path)\n",
    "        \n",
    "        # set minimum loss to the current validation loss\n",
    "        min_loss = valid_loss\n",
    "        \n",
    "        # reset wait time\n",
    "        wait = 0\n",
    "    else:\n",
    "        \n",
    "        # add to wait time\n",
    "        wait += 1\n",
    "        \n",
    "        # check to see if patience has run out\n",
    "        if wait == patience:\n",
    "            break\n"
   ]
  },
  {
   "cell_type": "markdown",
   "metadata": {},
   "source": [
    "# let's close the session, so we can walk through an example of how to load the parameters"
   ]
  },
  {
   "cell_type": "code",
   "execution_count": 22,
   "metadata": {},
   "outputs": [],
   "source": [
    "# close tensorflow session (Note, the graph is still open)\n",
    "sess.close()"
   ]
  },
  {
   "cell_type": "markdown",
   "metadata": {},
   "source": [
    "# we can restore the parameters to our graph"
   ]
  },
  {
   "cell_type": "code",
   "execution_count": 23,
   "metadata": {},
   "outputs": [
    {
     "name": "stdout",
     "output_type": "stream",
     "text": [
      "INFO:tensorflow:Restoring parameters from ../results/CTCF/simple_cnn_rnacompete\n"
     ]
    }
   ],
   "source": [
    "# create a new session\n",
    "sess = tf.Session()\n",
    "sess.run(tf.global_variables_initializer())\n",
    "\n",
    "# path to save results\n",
    "save_path = '../results/CTCF'\n",
    "params_path = os.path.join(save_path, 'simple_cnn_rnacompete')\n",
    "\n",
    "# restore trained parameters\n",
    "saver = tf.train.Saver()\n",
    "saver.restore(sess, save_path=params_path)"
   ]
  },
  {
   "cell_type": "markdown",
   "metadata": {},
   "source": [
    "# Now let's test our trained model"
   ]
  },
  {
   "cell_type": "code",
   "execution_count": 26,
   "metadata": {},
   "outputs": [
    {
     "name": "stdout",
     "output_type": "stream",
     "text": [
      "  test loss:\t\t0.202517\n",
      "  test AU-ROC:\t\t0.974555\n"
     ]
    },
    {
     "data": {
      "image/png": "[encoded data removed]",
      "text/plain": [
       "<matplotlib.figure.Figure at 0x12851c050>"
      ]
     },
     "metadata": {},
     "output_type": "display_data"
    }
   ],
   "source": [
    "# test model\n",
    "test_loss, test_predict = sess.run([loss_function, predictions], \n",
    "                                     feed_dict={inputs: X_test, \n",
    "                                                targets: Y_test, \n",
    "                                                keep_prob_conv: 1.0, \n",
    "                                                keep_prob_dense: 1.0})\n",
    "\n",
    "# calculate performance metrics\n",
    "fpr, tpr, thresholds = roc_curve(Y_test[:,0], test_predict[:,0])\n",
    "score = auc(fpr, tpr)\n",
    "\n",
    "print(\"  test loss:\\t\\t{:.6f}\".format(test_loss))\n",
    "print(\"  test AU-ROC:\\t\\t{:.6f}\".format(score))\n",
    "\n",
    "fig = plt.figure()\n",
    "plt.plot(fpr, tpr, linewidth=2)\n",
    "plt.plot([0,1], [0,1], '--k')\n",
    "plt.xlabel('False positive rate', fontsize=18)\n",
    "plt.ylabel('True positive rate', fontsize=18)\n",
    "plt.xlim([0,1])\n",
    "plt.ylim([0,1]);"
   ]
  },
  {
   "cell_type": "markdown",
   "metadata": {},
   "source": [
    "# Let's visualize first convolutional layer filters"
   ]
  },
  {
   "cell_type": "code",
   "execution_count": 27,
   "metadata": {},
   "outputs": [],
   "source": [
    "# get the convolutional filters\n",
    "filters = sess.run(W1)\n",
    "\n",
    "# reshape them so that we can visualize them easier\n",
    "filters = np.squeeze(filters).transpose([2,1,0])"
   ]
  },
  {
   "cell_type": "code",
   "execution_count": 12,
   "metadata": {},
   "outputs": [
    {
     "data": {
      "text/plain": [
       "<matplotlib.legend.Legend at 0x133eda650>"
      ]
     },
     "execution_count": 12,
     "metadata": {},
     "output_type": "execute_result"
    },
    {
     "data": {
      "image/png": "[encoded data removed]",
      "text/plain": [
       "<matplotlib.figure.Figure at 0x135604290>"
      ]
     },
     "metadata": {},
     "output_type": "display_data"
    }
   ],
   "source": [
    "plt.figure()\n",
    "plt.plot(filters[11].T)\n",
    "plt.legend(['A', 'C', 'G', 'T'])"
   ]
  },
  {
   "cell_type": "markdown",
   "metadata": {},
   "source": [
    "Plotting the filters is pretty difficult to interpret.  I've included some plotting functions in impress.py.  Lets use impress to normalize individual filters into a PWM and plot it as a sequence logo.  "
   ]
  },
  {
   "cell_type": "code",
   "execution_count": 13,
   "metadata": {},
   "outputs": [
    {
     "name": "stderr",
     "output_type": "stream",
     "text": [
      "/System/Library/Frameworks/Python.framework/Versions/2.7/Extras/lib/python/scipy/misc/pilutil.py:413: FutureWarning: Conversion of the second argument of issubdtype from `int` to `np.signedinteger` is deprecated. In future, it will be treated as `np.int64 == np.dtype(int).type`.\n",
      "  if issubdtype(ts,int):\n",
      "/System/Library/Frameworks/Python.framework/Versions/2.7/Extras/lib/python/scipy/misc/pilutil.py:415: FutureWarning: Conversion of the second argument of issubdtype from `float` to `np.floating` is deprecated. In future, it will be treated as `np.float64 == np.dtype(float).type`.\n",
      "  elif issubdtype(type(size),float):\n"
     ]
    },
    {
     "data": {
      "image/png": "[encoded data removed]",
      "text/plain": [
       "<matplotlib.figure.Figure at 0x133edad50>"
      ]
     },
     "metadata": {},
     "output_type": "display_data"
    }
   ],
   "source": [
    "import matplotlib as mpl\n",
    "import impress\n",
    "\n",
    "num_filters = filters.shape[0]\n",
    "grid = mpl.gridspec.GridSpec(4, 4)\n",
    "grid.update(wspace=0.2, hspace=0.2, left=0.1, right=0.2, bottom=0.1, top=0.2)\n",
    "fig = plt.figure(figsize=(100,30));\n",
    "for i in range(num_filters):\n",
    "    plt.subplot(grid[i]);\n",
    "    norm_filter = impress.normalize_pwm(filters[i], factor=3)\n",
    "    logo = impress.seq_logo(norm_filter, height=25, nt_width=10)\n",
    "    plt.imshow(logo, interpolation='none')\n",
    "    plt.yticks([])\n",
    "    plt.xticks([])\n",
    "    "
   ]
  },
  {
   "cell_type": "markdown",
   "metadata": {},
   "source": [
    "# Let's generate a saliency map"
   ]
  },
  {
   "cell_type": "markdown",
   "metadata": {},
   "source": [
    "To calculate a saliency map, we need to calculate the derivative of the output neuron with respect to the inputs.  Luckily, tensorflow makes this easy because it calculates gradients using automatic differentiation.  We can calculate the gradient with the function tf.gradients.  This method constructs partial derivatives of ys w.r.t. x in xs. ys and xs are each a Tensor or a list of tensors. \n",
    "\n",
    "tf.gradients(\n",
    "    ys,\n",
    "    xs,\n",
    "    grad_ys=None,\n",
    "    name='gradients',\n",
    "    colocate_gradients_with_ops=False,\n",
    "    gate_gradients=False,\n",
    "    aggregation_method=None,\n",
    "    stop_gradients=None\n",
    ")"
   ]
  },
  {
   "cell_type": "code",
   "execution_count": 16,
   "metadata": {},
   "outputs": [
    {
     "data": {
      "text/plain": [
       "<matplotlib.legend.Legend at 0x1340c4ed0>"
      ]
     },
     "execution_count": 16,
     "metadata": {},
     "output_type": "execute_result"
    },
    {
     "data": {
      "image/png": "[encoded data removed]",
      "text/plain": [
       "<matplotlib.figure.Figure at 0x135f84f10>"
      ]
     },
     "metadata": {},
     "output_type": "display_data"
    }
   ],
   "source": [
    "# let's get a sorted list of the highest predicted sequences\n",
    "max_index = np.argsort(test_predict[:,0])[::-1]\n",
    "\n",
    "# get a sequence from the list\n",
    "index = 3\n",
    "X = np.expand_dims(X_test[max_index[index]], axis=0)\n",
    "\n",
    "# calculate the gradients to the inputs\n",
    "grad_to_inputs = tf.gradients(ys=predictions, xs=inputs)\n",
    "\n",
    "# run the session to calculate the saliency map for a given sequence X\n",
    "backprop_saliency = sess.run(grad_to_inputs, feed_dict={inputs: X, \n",
    "                                                        keep_prob_conv: 1.0, \n",
    "                                                        keep_prob_dense: 1.0})\n",
    "\n",
    "# plot \n",
    "plt.plot(np.squeeze(backprop_saliency[0]))\n",
    "plt.legend(['A','C','G','T'])"
   ]
  },
  {
   "cell_type": "markdown",
   "metadata": {},
   "source": [
    "I've provided a visualization function to normalize the saliency map to be similar to a PWM and a function to plot a PWM as a sequence logo within the impress module.  "
   ]
  },
  {
   "cell_type": "code",
   "execution_count": 17,
   "metadata": {
    "scrolled": true
   },
   "outputs": [
    {
     "data": {
      "image/png": "[encoded data removed]",
      "text/plain": [
       "<matplotlib.figure.Figure at 0x13384c1d0>"
      ]
     },
     "metadata": {},
     "output_type": "display_data"
    }
   ],
   "source": [
    "import impress\n",
    "\n",
    "# filter and normalize saliency map \n",
    "norm_saliency = impress.normalize_pwm(np.squeeze(backprop_saliency[0]).T, factor=3)\n",
    "\n",
    "# generate sequence logo\n",
    "logo = impress.seq_logo(norm_saliency, height=30, nt_width=10, norm=0)\n",
    "\n",
    "seq = impress.seq_logo(np.squeeze(X).T, height=30, nt_width=10, norm=0)\n",
    "\n",
    "# plot sequence logo\n",
    "plt.figure(figsize=(25,4))\n",
    "plt.subplot(2,1,1)\n",
    "plt.imshow(logo)\n",
    "plt.xticks([]);\n",
    "plt.yticks([]);\n",
    "plt.subplot(2,1,2)\n",
    "plt.imshow(seq)\n",
    "plt.xticks([]);\n",
    "plt.yticks([]);"
   ]
  },
  {
   "cell_type": "code",
   "execution_count": null,
   "metadata": {},
   "outputs": [],
   "source": []
  },
  {
   "cell_type": "code",
   "execution_count": null,
   "metadata": {},
   "outputs": [],
   "source": []
  },
  {
   "cell_type": "code",
   "execution_count": null,
   "metadata": {},
   "outputs": [],
   "source": []
  }
 ],
 "metadata": {
  "kernelspec": {
   "display_name": "Python 2",
   "language": "python",
   "name": "python2"
  },
  "language_info": {
   "codemirror_mode": {
    "name": "ipython",
    "version": 2
   },
   "file_extension": ".py",
   "mimetype": "text/x-python",
   "name": "python",
   "nbconvert_exporter": "python",
   "pygments_lexer": "ipython2",
   "version": "2.7.10"
  }
 },
 "nbformat": 4,
 "nbformat_minor": 2
}
