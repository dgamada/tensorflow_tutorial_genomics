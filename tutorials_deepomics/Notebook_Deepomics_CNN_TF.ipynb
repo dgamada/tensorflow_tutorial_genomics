{
 "cells": [
  {
   "cell_type": "markdown",
   "metadata": {},
   "source": [
    "# Transcription factor binding analysis with convolutional neural networks\n",
    "\n",
    "In this tutorial, we will walk through an example of how to use deepomics to build, train, and evaluate a convolutional neural network for a common supervised classification learning task of predicting whether or not a TF binds to a given sequence. Deepomics is a higher level API that allows you to quickly build different neural network architectures, modify hyperparameters all while keeping track of the feed_dict.  It also allows for easier evaluation of neural networks for biological sequence data. \n",
    "\n",
    "To get deepomics:\n",
    "\n",
    "! git clone https://github.com/p-koo/deepomics"
   ]
  },
  {
   "cell_type": "code",
   "execution_count": 1,
   "metadata": {},
   "outputs": [],
   "source": [
    "from __future__ import absolute_import\n",
    "from __future__ import division\n",
    "from __future__ import print_function\n",
    "\n",
    "import os, sys, h5py\n",
    "import numpy as np\n",
    "import matplotlib.pyplot as plt\n",
    "%matplotlib inline\n",
    "\n",
    "from deepomics import neuralnetwork as nn\n",
    "from deepomics import utils, fit, visualize, saliency"
   ]
  },
  {
   "cell_type": "markdown",
   "metadata": {},
   "source": [
    "# load CTCF dataset\n",
    "\n",
    "CTCF conservative narrow peaks were downloaded from the ENCODE database:\n",
    "https://www.encodeproject.org/experiments/ENCSR000BIE/\n",
    "\n",
    "!wget https://www.encodeproject.org/files/ENCFF252PLM/@@download/ENCFF252PLM.bed.gz\n",
    "\n",
    "The peaks were processed with a script (process_chip.py), whose steps include:\n",
    "    1. enforce a constant window about each peak (window size = 100 nts)\n",
    "    2. employ bedtools to extract sequences from GRC38 reference genome\n",
    "    3. filter sequences which contain `N' characters\n",
    "    4. convert sequences into a one-hot representation\n",
    "    5. generate background sequences by performing a dinucleotide shuffle using meme\n",
    "    6. combine and shuffles positive and negative sequences\n",
    "    7. create a label vector with either a one for sequences that has a ChIP-seq peak and a zero for di-nuc shuffled sequences\n",
    "    8. split the dataset into a training set, validation set, and test set\n",
    "    9. save dataset to a hdf5 file"
   ]
  },
  {
   "cell_type": "code",
   "execution_count": 2,
   "metadata": {},
   "outputs": [],
   "source": [
    "# path to dataset \n",
    "data_file_path = '../data/CTCF_100.h5'\n",
    "\n",
    "# load dataset\n",
    "dataset = h5py.File(data_file_path, 'r')\n",
    "X_train = np.array(dataset['X_train']).astype(np.float32)\n",
    "Y_train = np.array(dataset['Y_train']).astype(np.float32)\n",
    "X_valid = np.array(dataset['X_valid']).astype(np.float32)\n",
    "Y_valid = np.array(dataset['Y_valid']).astype(np.float32)\n",
    "X_test = np.array(dataset['X_test']).astype(np.float32)\n",
    "Y_test = np.array(dataset['Y_test']).astype(np.float32)\n",
    "\n",
    "# add another dimension to make it a 4D tensor and \n",
    "# transpose dimensions so that it matches convolutional layer inputs:\n",
    "#                  (batch size, sequence length, 1, nucleotide channels)\n",
    "#    Note: adding an additional dimension is required because we will be using 2D convolution functions,\n",
    "#          because tensorflow doesn't support a lot of functions for 1D sequences.  Effectively, its like\n",
    "#          treating second dimension as an image with one pixel in one axis.\n",
    "X_train = np.expand_dims(X_train, axis=3).transpose([0, 2, 3, 1])\n",
    "X_test = np.expand_dims(X_test, axis=3).transpose([0, 2, 3, 1])\n",
    "X_valid = np.expand_dims(X_valid, axis=3).transpose([0, 2, 3, 1])\n",
    "\n",
    "\n",
    "# Note: deepomics takes as input a dictionary for each dataset\n",
    "train = {'inputs': X_train, 'targets': Y_train}\n",
    "valid = {'inputs': X_valid, 'targets': Y_valid}\n",
    "test = {'inputs': X_test, 'targets': Y_test}"
   ]
  },
  {
   "cell_type": "markdown",
   "metadata": {},
   "source": [
    "# build our convolutional neural network model \n",
    "\n",
    "Our model will be similar to DeepBind: one convolutional layer, one fully-connected hidden layer, followed by an output layer.  "
   ]
  },
  {
   "cell_type": "code",
   "execution_count": 3,
   "metadata": {},
   "outputs": [],
   "source": [
    "def cnn_model(input_shape, output_shape):\n",
    "    \n",
    "    layer1 = {'layer': 'input', #200          \n",
    "              'input_shape': input_shape\n",
    "             }\n",
    "    layer2 = {'layer': 'conv1d',        # input, conv1d, dense, conv1d_residual, dense_residual, conv1d_transpose,\n",
    "                                        # concat, embedding, variational_normal, variational_softmax, + more\n",
    "              'num_filters': 24,\n",
    "              'filter_size': 19,\n",
    "              'norm': 'batch',          # if removed, automatically adds bias instead\n",
    "              'activation': 'relu',     # or leaky_relu, prelu, sigmoid, tanh, etc\n",
    "              'dropout': 0.2,           # if removed, default is no dropout\n",
    "              'padding': 'SAME',        # VALID OR SAME\n",
    "              'max_pool': 25,           # \n",
    "             }\n",
    "    layer3 = {'layer': 'dense',\n",
    "              'num_units': 64,\n",
    "              'norm': 'batch',\n",
    "              'activation': 'relu',\n",
    "              'dropout': 0.5,\n",
    "             }\n",
    "    layer4 = {'layer': 'dense',\n",
    "              'num_units': output_shape[1],\n",
    "              'activation': 'sigmoid'\n",
    "             }\n",
    "\n",
    "    model_layers = [layer1, layer2, layer3, layer4]\n",
    "\n",
    "    # optimization parameters\n",
    "    optimization = {\"objective\": \"binary\",     # binary, categorical, squared_error, elbo\n",
    "                    \"optimizer\": \"adam\",       # adam, sgd, momentum, rmsprop, adagrad\n",
    "                    \"learning_rate\": 0.0003,  \n",
    "                    \"l2\": 1e-6,\n",
    "                    #\"label_smoothing\": 0.05,\n",
    "                    #\"l1\": 1e-6,\n",
    "                    }\n",
    "    return model_layers, optimization\n",
    "\n",
    "\n",
    "# get shapes of inputs and targets\n",
    "input_shape = list(train['inputs'].shape)\n",
    "input_shape[0] = None\n",
    "output_shape = train['targets'].shape\n",
    "\n",
    "# load model parameters\n",
    "model_layers, optimization = cnn_model(input_shape, output_shape)\n",
    "\n",
    "# build neural network class\n",
    "nnmodel = nn.NeuralNet(seed=247)\n",
    "nnmodel.build_layers(model_layers, optimization)\n",
    "\n",
    "# compile neural trainer\n",
    "save_path = '../results/CTCF'\n",
    "param_path = os.path.join(save_path, 'deepomics_cnn')\n",
    "nntrainer = nn.NeuralTrainer(nnmodel, save='best', file_path=param_path)"
   ]
  },
  {
   "cell_type": "code",
   "execution_count": 4,
   "metadata": {},
   "outputs": [
    {
     "name": "stdout",
     "output_type": "stream",
     "text": [
      "----------------------------------------------------------------------------\n",
      "Network architecture:\n",
      "----------------------------------------------------------------------------\n",
      "layer1: inputs\n",
      "(?, 100, 1, 4)\n",
      "layer2: conv1d_0\n",
      "(?, 100, 1, 24)\n",
      "layer3: conv1d_0_batch\n",
      "(?, 100, 1, 24)\n",
      "layer4: conv1d_0_active\n",
      "(?, 100, 1, 24)\n",
      "layer5: conv1d_0_maxpool\n",
      "(?, 4, 1, 24)\n",
      "layer6: conv1d_0_dropout\n",
      "(?, 4, 1, 24)\n",
      "layer7: dense_0\n",
      "(?, 64)\n",
      "layer8: dense_0_batch\n",
      "(?, 64)\n",
      "layer9: dense_0_active\n",
      "(?, 64)\n",
      "layer10: dense_0_dropout\n",
      "(?, 64)\n",
      "layer11: dense_1\n",
      "(?, 1)\n",
      "layer12: dense_1_bias\n",
      "(?, 1)\n",
      "layer13: output\n",
      "(?, 1)\n",
      "----------------------------------------------------------------------------\n"
     ]
    }
   ],
   "source": [
    "# look at the shapes of each layer\n",
    "nnmodel.inspect_layers()"
   ]
  },
  {
   "cell_type": "markdown",
   "metadata": {},
   "source": [
    "# start a session"
   ]
  },
  {
   "cell_type": "code",
   "execution_count": 5,
   "metadata": {},
   "outputs": [],
   "source": [
    "# initialize session\n",
    "sess = utils.initialize_session()"
   ]
  },
  {
   "cell_type": "markdown",
   "metadata": {},
   "source": [
    "# train the neural network"
   ]
  },
  {
   "cell_type": "code",
   "execution_count": 6,
   "metadata": {},
   "outputs": [
    {
     "name": "stdout",
     "output_type": "stream",
     "text": [
      "Epoch 1 out of 50 \n",
      "[==============================] 100.0% -- time=12s -- loss=0.60198 -- accuracy=67.74%   \n",
      "  valid loss:\t\t0.37952\n",
      "  valid accuracy:\t0.85369+/-0.00000\n",
      "  valid auc-roc:\t0.93119+/-0.00000\n",
      "  valid auc-pr:\t\t0.93851+/-0.00000\n",
      "  lower cross-validation found\n",
      "  saving model to:  ../results/CTCF/deepomics_cnn_best.ckpt\n",
      "Epoch 2 out of 50 \n",
      "[==============================] 100.0% -- time=12s -- loss=0.40979 -- accuracy=81.55%   \n",
      "  valid loss:\t\t0.34994\n",
      "  valid accuracy:\t0.84648+/-0.00000\n",
      "  valid auc-roc:\t0.94931+/-0.00000\n",
      "  valid auc-pr:\t\t0.95574+/-0.00000\n",
      "  lower cross-validation found\n",
      "  saving model to:  ../results/CTCF/deepomics_cnn_best.ckpt\n",
      "Epoch 3 out of 50 \n",
      "[==============================] 100.0% -- time=11s -- loss=0.31977 -- accuracy=86.57%   \n",
      "  valid loss:\t\t0.29616\n",
      "  valid accuracy:\t0.87053+/-0.00000\n",
      "  valid auc-roc:\t0.96516+/-0.00000\n",
      "  valid auc-pr:\t\t0.96791+/-0.00000\n",
      "  lower cross-validation found\n",
      "  saving model to:  ../results/CTCF/deepomics_cnn_best.ckpt\n",
      "Epoch 4 out of 50 \n",
      "[==============================] 100.0% -- time=11s -- loss=0.25609 -- accuracy=89.87%   \n",
      "  valid loss:\t\t0.21201\n",
      "  valid accuracy:\t0.91978+/-0.00000\n",
      "  valid auc-roc:\t0.97335+/-0.00000\n",
      "  valid auc-pr:\t\t0.97467+/-0.00000\n",
      "  lower cross-validation found\n",
      "  saving model to:  ../results/CTCF/deepomics_cnn_best.ckpt\n",
      "Epoch 5 out of 50 \n",
      "[==============================] 100.0% -- time=12s -- loss=0.23282 -- accuracy=90.93%   \n",
      "  valid loss:\t\t0.20053\n",
      "  valid accuracy:\t0.92545+/-0.00000\n",
      "  valid auc-roc:\t0.97521+/-0.00000\n",
      "  valid auc-pr:\t\t0.97602+/-0.00000\n",
      "  lower cross-validation found\n",
      "  saving model to:  ../results/CTCF/deepomics_cnn_best.ckpt\n",
      "Epoch 6 out of 50 \n",
      "[==============================] 100.0% -- time=11s -- loss=0.22454 -- accuracy=91.43%   \n",
      "  valid loss:\t\t0.19364\n",
      "  valid accuracy:\t0.92661+/-0.00000\n",
      "  valid auc-roc:\t0.97687+/-0.00000\n",
      "  valid auc-pr:\t\t0.97739+/-0.00000\n",
      "  lower cross-validation found\n",
      "  saving model to:  ../results/CTCF/deepomics_cnn_best.ckpt\n",
      "Epoch 7 out of 50 \n",
      "[==============================] 100.0% -- time=12s -- loss=0.21339 -- accuracy=91.93%   \n",
      "  valid loss:\t\t0.19379\n",
      "  valid accuracy:\t0.92747+/-0.00000\n",
      "  valid auc-roc:\t0.97810+/-0.00000\n",
      "  valid auc-pr:\t\t0.97889+/-0.00000\n",
      "Epoch 8 out of 50 \n",
      "[==============================] 100.0% -- time=11s -- loss=0.21020 -- accuracy=92.08%   \n",
      "  valid loss:\t\t0.18764\n",
      "  valid accuracy:\t0.93084+/-0.00000\n",
      "  valid auc-roc:\t0.97792+/-0.00000\n",
      "  valid auc-pr:\t\t0.97831+/-0.00000\n",
      "  lower cross-validation found\n",
      "  saving model to:  ../results/CTCF/deepomics_cnn_best.ckpt\n",
      "Epoch 9 out of 50 \n",
      "[==============================] 100.0% -- time=12s -- loss=0.20551 -- accuracy=92.35%   \n",
      "  valid loss:\t\t0.18522\n",
      "  valid accuracy:\t0.93219+/-0.00000\n",
      "  valid auc-roc:\t0.97896+/-0.00000\n",
      "  valid auc-pr:\t\t0.97930+/-0.00000\n",
      "  lower cross-validation found\n",
      "  saving model to:  ../results/CTCF/deepomics_cnn_best.ckpt\n",
      "Epoch 10 out of 50 \n",
      "[==============================] 100.0% -- time=12s -- loss=0.20523 -- accuracy=92.32%   \n",
      "  valid loss:\t\t0.18151\n",
      "  valid accuracy:\t0.93036+/-0.00000\n",
      "  valid auc-roc:\t0.97980+/-0.00000\n",
      "  valid auc-pr:\t\t0.97982+/-0.00000\n",
      "  lower cross-validation found\n",
      "  saving model to:  ../results/CTCF/deepomics_cnn_best.ckpt\n",
      "Epoch 11 out of 50 \n",
      "[==============================] 100.0% -- time=12s -- loss=0.20184 -- accuracy=92.45%   \n",
      "  valid loss:\t\t0.17982\n",
      "  valid accuracy:\t0.93449+/-0.00000\n",
      "  valid auc-roc:\t0.98000+/-0.00000\n",
      "  valid auc-pr:\t\t0.98012+/-0.00000\n",
      "  lower cross-validation found\n",
      "  saving model to:  ../results/CTCF/deepomics_cnn_best.ckpt\n",
      "Epoch 12 out of 50 \n",
      "[==============================] 100.0% -- time=12s -- loss=0.19970 -- accuracy=92.58%   \n",
      "  valid loss:\t\t0.18182\n",
      "  valid accuracy:\t0.93151+/-0.00000\n",
      "  valid auc-roc:\t0.97981+/-0.00000\n",
      "  valid auc-pr:\t\t0.98026+/-0.00000\n",
      "Epoch 13 out of 50 \n",
      "[==============================] 100.0% -- time=11s -- loss=0.19791 -- accuracy=92.72%   \n",
      "  valid loss:\t\t0.17727\n",
      "  valid accuracy:\t0.93267+/-0.00000\n",
      "  valid auc-roc:\t0.98070+/-0.00000\n",
      "  valid auc-pr:\t\t0.98086+/-0.00000\n",
      "  lower cross-validation found\n",
      "  saving model to:  ../results/CTCF/deepomics_cnn_best.ckpt\n",
      "Epoch 14 out of 50 \n",
      "[==============================] 100.0% -- time=12s -- loss=0.19590 -- accuracy=92.81%   \n",
      "  valid loss:\t\t0.17884\n",
      "  valid accuracy:\t0.93478+/-0.00000\n",
      "  valid auc-roc:\t0.98035+/-0.00000\n",
      "  valid auc-pr:\t\t0.98043+/-0.00000\n",
      "Epoch 15 out of 50 \n",
      "[==============================] 100.0% -- time=12s -- loss=0.19545 -- accuracy=92.80%   \n",
      "  valid loss:\t\t0.18349\n",
      "  valid accuracy:\t0.92988+/-0.00000\n",
      "  valid auc-roc:\t0.98079+/-0.00000\n",
      "  valid auc-pr:\t\t0.98136+/-0.00000\n",
      "Epoch 16 out of 50 \n",
      "[==============================] 100.0% -- time=13s -- loss=0.19382 -- accuracy=92.87%   \n",
      "  valid loss:\t\t0.17576\n",
      "  valid accuracy:\t0.93507+/-0.00000\n",
      "  valid auc-roc:\t0.98092+/-0.00000\n",
      "  valid auc-pr:\t\t0.98104+/-0.00000\n",
      "  lower cross-validation found\n",
      "  saving model to:  ../results/CTCF/deepomics_cnn_best.ckpt\n",
      "Epoch 17 out of 50 \n",
      "[==============================] 100.0% -- time=13s -- loss=0.19471 -- accuracy=92.79%   \n",
      "  valid loss:\t\t0.17496\n",
      "  valid accuracy:\t0.93584+/-0.00000\n",
      "  valid auc-roc:\t0.98108+/-0.00000\n",
      "  valid auc-pr:\t\t0.98110+/-0.00000\n",
      "  lower cross-validation found\n",
      "  saving model to:  ../results/CTCF/deepomics_cnn_best.ckpt\n",
      "Epoch 18 out of 50 \n",
      "[==============================] 100.0% -- time=12s -- loss=0.19453 -- accuracy=92.88%   \n",
      "  valid loss:\t\t0.17520\n",
      "  valid accuracy:\t0.93565+/-0.00000\n",
      "  valid auc-roc:\t0.98105+/-0.00000\n",
      "  valid auc-pr:\t\t0.98129+/-0.00000\n",
      "Epoch 19 out of 50 \n",
      "[==============================] 100.0% -- time=12s -- loss=0.19062 -- accuracy=92.94%   \n",
      "  valid loss:\t\t0.17535\n",
      "  valid accuracy:\t0.93353+/-0.00000\n",
      "  valid auc-roc:\t0.98072+/-0.00000\n",
      "  valid auc-pr:\t\t0.98123+/-0.00000\n",
      "Epoch 20 out of 50 \n",
      "[==============================] 100.0% -- time=12s -- loss=0.18901 -- accuracy=92.99%   \n",
      "  valid loss:\t\t0.17633\n",
      "  valid accuracy:\t0.93430+/-0.00000\n",
      "  valid auc-roc:\t0.98104+/-0.00000\n",
      "  valid auc-pr:\t\t0.98122+/-0.00000\n",
      "Epoch 21 out of 50 \n",
      "[==============================] 100.0% -- time=12s -- loss=0.18847 -- accuracy=93.04%   \n",
      "  valid loss:\t\t0.17586\n",
      "  valid accuracy:\t0.93334+/-0.00000\n",
      "  valid auc-roc:\t0.98052+/-0.00000\n",
      "  valid auc-pr:\t\t0.98126+/-0.00000\n",
      "Epoch 22 out of 50 \n",
      "[==============================] 100.0% -- time=12s -- loss=0.18936 -- accuracy=93.07%   \n",
      "  valid loss:\t\t0.17535\n",
      "  valid accuracy:\t0.93286+/-0.00000\n",
      "  valid auc-roc:\t0.98085+/-0.00000\n",
      "  valid auc-pr:\t\t0.98132+/-0.00000\n",
      "Epoch 23 out of 50 \n",
      "[==============================] 100.0% -- time=12s -- loss=0.18851 -- accuracy=93.04%   \n",
      "  valid loss:\t\t0.17416\n",
      "  valid accuracy:\t0.93546+/-0.00000\n",
      "  valid auc-roc:\t0.98088+/-0.00000\n",
      "  valid auc-pr:\t\t0.98148+/-0.00000\n",
      "  lower cross-validation found\n",
      "  saving model to:  ../results/CTCF/deepomics_cnn_best.ckpt\n",
      "Epoch 24 out of 50 \n",
      "[==============================] 100.0% -- time=12s -- loss=0.18709 -- accuracy=93.11%   \n",
      "  valid loss:\t\t0.17445\n",
      "  valid accuracy:\t0.93353+/-0.00000\n",
      "  valid auc-roc:\t0.98099+/-0.00000\n",
      "  valid auc-pr:\t\t0.98170+/-0.00000\n",
      "Epoch 25 out of 50 \n",
      "[==============================] 100.0% -- time=12s -- loss=0.18675 -- accuracy=93.13%   \n",
      "  valid loss:\t\t0.17347\n",
      "  valid accuracy:\t0.93478+/-0.00000\n",
      "  valid auc-roc:\t0.98155+/-0.00000\n",
      "  valid auc-pr:\t\t0.98206+/-0.00000\n",
      "  lower cross-validation found\n",
      "  saving model to:  ../results/CTCF/deepomics_cnn_best.ckpt\n",
      "Epoch 26 out of 50 \n",
      "[==============================] 100.0% -- time=12s -- loss=0.18687 -- accuracy=93.10%   \n",
      "  valid loss:\t\t0.17489\n",
      "  valid accuracy:\t0.93324+/-0.00000\n",
      "  valid auc-roc:\t0.98139+/-0.00000\n",
      "  valid auc-pr:\t\t0.98221+/-0.00000\n",
      "Epoch 27 out of 50 \n",
      "[==============================] 100.0% -- time=12s -- loss=0.18477 -- accuracy=93.24%   \n",
      "  valid loss:\t\t0.17501\n",
      "  valid accuracy:\t0.93363+/-0.00000\n",
      "  valid auc-roc:\t0.98104+/-0.00000\n",
      "  valid auc-pr:\t\t0.98148+/-0.00000\n",
      "Epoch 28 out of 50 \n",
      "[==============================] 100.0% -- time=12s -- loss=0.18609 -- accuracy=93.10%   \n",
      "  valid loss:\t\t0.17161\n",
      "  valid accuracy:\t0.93488+/-0.00000\n",
      "  valid auc-roc:\t0.98159+/-0.00000\n",
      "  valid auc-pr:\t\t0.98239+/-0.00000\n",
      "  lower cross-validation found\n",
      "  saving model to:  ../results/CTCF/deepomics_cnn_best.ckpt\n",
      "Epoch 29 out of 50 \n",
      "[==============================] 100.0% -- time=13s -- loss=0.18336 -- accuracy=93.31%   \n",
      "  valid loss:\t\t0.17151\n",
      "  valid accuracy:\t0.93507+/-0.00000\n",
      "  valid auc-roc:\t0.98156+/-0.00000\n",
      "  valid auc-pr:\t\t0.98238+/-0.00000\n",
      "  lower cross-validation found\n",
      "  saving model to:  ../results/CTCF/deepomics_cnn_best.ckpt\n",
      "Epoch 30 out of 50 \n",
      "[==============================] 100.0% -- time=13s -- loss=0.18466 -- accuracy=93.18%   \n",
      "  valid loss:\t\t0.17164\n",
      "  valid accuracy:\t0.93642+/-0.00000\n",
      "  valid auc-roc:\t0.98166+/-0.00000\n",
      "  valid auc-pr:\t\t0.98224+/-0.00000\n",
      "Epoch 31 out of 50 \n",
      "[==============================] 100.0% -- time=12s -- loss=0.18508 -- accuracy=93.12%   \n",
      "  valid loss:\t\t0.17517\n",
      "  valid accuracy:\t0.93353+/-0.00000\n",
      "  valid auc-roc:\t0.98147+/-0.00000\n",
      "  valid auc-pr:\t\t0.98196+/-0.00000\n",
      "Epoch 32 out of 50 \n",
      "[==============================] 100.0% -- time=12s -- loss=0.18197 -- accuracy=93.33%   \n",
      "  valid loss:\t\t0.17685\n",
      "  valid accuracy:\t0.93411+/-0.00000\n",
      "  valid auc-roc:\t0.98104+/-0.00000\n",
      "  valid auc-pr:\t\t0.98145+/-0.00000\n",
      "Epoch 33 out of 50 \n",
      "[==============================] 100.0% -- time=13s -- loss=0.18286 -- accuracy=93.28%   \n",
      "  valid loss:\t\t0.17324\n",
      "  valid accuracy:\t0.93507+/-0.00000\n",
      "  valid auc-roc:\t0.98156+/-0.00000\n",
      "  valid auc-pr:\t\t0.98215+/-0.00000\n",
      "Epoch 34 out of 50 \n",
      "[==============================] 100.0% -- time=13s -- loss=0.18485 -- accuracy=93.21%   \n",
      "  valid loss:\t\t0.17504\n",
      "  valid accuracy:\t0.93353+/-0.00000\n",
      "  valid auc-roc:\t0.98129+/-0.00000\n",
      "  valid auc-pr:\t\t0.98201+/-0.00000\n",
      "Epoch 35 out of 50 \n",
      "[==============================] 100.0% -- time=12s -- loss=0.18458 -- accuracy=93.27%   \n",
      "  valid loss:\t\t0.18156\n",
      "  valid accuracy:\t0.92978+/-0.00000\n",
      "  valid auc-roc:\t0.98098+/-0.00000\n",
      "  valid auc-pr:\t\t0.98183+/-0.00000\n",
      "Epoch 36 out of 50 \n",
      "[==============================] 100.0% -- time=12s -- loss=0.18197 -- accuracy=93.29%   \n",
      "  valid loss:\t\t0.17880\n",
      "  valid accuracy:\t0.93199+/-0.00000\n",
      "  valid auc-roc:\t0.98113+/-0.00000\n",
      "  valid auc-pr:\t\t0.98187+/-0.00000\n",
      "Epoch 37 out of 50 \n",
      "[==============================] 100.0% -- time=12s -- loss=0.18286 -- accuracy=93.32%   \n",
      "  valid loss:\t\t0.17227\n",
      "  valid accuracy:\t0.93469+/-0.00000\n",
      "  valid auc-roc:\t0.98138+/-0.00000\n",
      "  valid auc-pr:\t\t0.98237+/-0.00000\n",
      "Epoch 38 out of 50 \n",
      "[==============================] 100.0% -- time=13s -- loss=0.18075 -- accuracy=93.36%   \n",
      "  valid loss:\t\t0.17286\n",
      "  valid accuracy:\t0.93584+/-0.00000\n",
      "  valid auc-roc:\t0.98111+/-0.00000\n",
      "  valid auc-pr:\t\t0.98183+/-0.00000\n",
      "Epoch 39 out of 50 \n",
      "[==============================] 100.0% -- time=12s -- loss=0.18171 -- accuracy=93.26%   \n",
      "  valid loss:\t\t0.17268\n",
      "  valid accuracy:\t0.93584+/-0.00000\n",
      "  valid auc-roc:\t0.98168+/-0.00000\n",
      "  valid auc-pr:\t\t0.98235+/-0.00000\n",
      "Patience ran out... Early stopping.\n"
     ]
    }
   ],
   "source": [
    "# fit model\n",
    "data = {'train': train, 'valid': valid}\n",
    "fit.train_minibatch(sess, nntrainer, data, \n",
    "                    batch_size=100, \n",
    "                    num_epochs=50,\n",
    "                    patience=10, \n",
    "                    verbose=2, \n",
    "                    shuffle=True, \n",
    "                    save_all=False)"
   ]
  },
  {
   "cell_type": "code",
   "execution_count": 7,
   "metadata": {},
   "outputs": [
    {
     "name": "stdout",
     "output_type": "stream",
     "text": [
      "loading model from:  ../results/CTCF/deepomics_cnn_best.ckpt\n",
      "INFO:tensorflow:Restoring parameters from ../results/CTCF/deepomics_cnn_best.ckpt\n",
      "  test  loss:\t\t0.16116\n",
      "  test  accuracy:\t0.93964+/-0.00000\n",
      "  test  auc-roc:\t0.98378+/-0.00000\n",
      "  test  auc-pr:\t\t0.98473+/-0.00000\n"
     ]
    }
   ],
   "source": [
    "# set best parameters\n",
    "nntrainer.set_best_parameters(sess)\n",
    "\n",
    "# test model\n",
    "loss, mean_vals, std_vals = nntrainer.test_model(sess, test, name='test')"
   ]
  },
  {
   "cell_type": "markdown",
   "metadata": {},
   "source": [
    "# Let's visualize first convolutional layer filters"
   ]
  },
  {
   "cell_type": "code",
   "execution_count": 8,
   "metadata": {},
   "outputs": [
    {
     "name": "stderr",
     "output_type": "stream",
     "text": [
      "/usr/lib/python2.7/dist-packages/matplotlib/figure.py:1744: UserWarning: This figure includes Axes that are not compatible with tight_layout, so its results might be incorrect.\n",
      "  warnings.warn(\"This figure includes Axes that are not \"\n"
     ]
    },
    {
     "data": {
      "image/png": "[encoded data removed]",
      "text/plain": [
       "<matplotlib.figure.Figure at 0x7f26f41e3550>"
      ]
     },
     "metadata": {},
     "output_type": "display_data"
    }
   ],
   "source": [
    "# plot first layer filters\n",
    "W = nnmodel.get_parameters(sess, layer='conv1d_0')[0]\n",
    "fig = visualize.plot_filter_logos(W, figsize=(100,50), height=25, \n",
    "                            nt_width=10, norm=0, alphabet='dna')\n",
    "#outfile = os.path.join(save_path, 'conv1_filters.pdf')\n",
    "#fig.savefig(outfile, format='pdf', dpi=200, bbox_inches='tight') "
   ]
  },
  {
   "cell_type": "markdown",
   "metadata": {},
   "source": [
    "# get predictions\n",
    "\n",
    "Note: the activations of any layer can be extracted by giving the layer name."
   ]
  },
  {
   "cell_type": "code",
   "execution_count": 9,
   "metadata": {},
   "outputs": [],
   "source": [
    "# calculate activations\n",
    "predictions = nntrainer.get_activations(sess, test, layer='output')"
   ]
  },
  {
   "cell_type": "markdown",
   "metadata": {},
   "source": [
    "# close session"
   ]
  },
  {
   "cell_type": "code",
   "execution_count": 10,
   "metadata": {},
   "outputs": [],
   "source": [
    "# close session\n",
    "sess.close()"
   ]
  },
  {
   "cell_type": "markdown",
   "metadata": {},
   "source": [
    "# Let's plot saliency maps for the highest predicted sequences"
   ]
  },
  {
   "cell_type": "code",
   "execution_count": 11,
   "metadata": {},
   "outputs": [
    {
     "name": "stdout",
     "output_type": "stream",
     "text": [
      "INFO:tensorflow:Restoring parameters from ../results/CTCF/deepomics_cnn_best.ckpt\n",
      "INFO:tensorflow:Restoring parameters from ../results/CTCF/deepomics_cnn_best.ckpt\n",
      "INFO:tensorflow:Restoring parameters from ../results/CTCF/deepomics_cnn_best.ckpt\n",
      "INFO:tensorflow:Restoring parameters from ../results/CTCF/deepomics_cnn_best.ckpt\n",
      "INFO:tensorflow:Restoring parameters from ../results/CTCF/deepomics_cnn_best.ckpt\n"
     ]
    },
    {
     "data": {
      "image/png": "[encoded data removed]",
      "text/plain": [
       "<matplotlib.figure.Figure at 0x7f267d6629d0>"
      ]
     },
     "metadata": {},
     "output_type": "display_data"
    },
    {
     "data": {
      "image/png": "[encoded data removed]",
      "text/plain": [
       "<matplotlib.figure.Figure at 0x7f267889f250>"
      ]
     },
     "metadata": {},
     "output_type": "display_data"
    },
    {
     "data": {
      "image/png": "[encoded data removed]",
      "text/plain": [
       "<matplotlib.figure.Figure at 0x7f267dc4ddd0>"
      ]
     },
     "metadata": {},
     "output_type": "display_data"
    },
    {
     "data": {
      "image/png": "[encoded data removed]",
      "text/plain": [
       "<matplotlib.figure.Figure at 0x7f2678a50f10>"
      ]
     },
     "metadata": {},
     "output_type": "display_data"
    },
    {
     "data": {
      "image/png": "[encoded data removed]",
      "text/plain": [
       "<matplotlib.figure.Figure at 0x7f267e084510>"
      ]
     },
     "metadata": {},
     "output_type": "display_data"
    }
   ],
   "source": [
    "# sort activations\n",
    "plot_index = np.argsort(predictions[:,0])[::-1]\n",
    "\n",
    "# saliency parameters  <-- neccessary because we need to rebuild graph using different gradient ops\n",
    "params = {'genome_model': cnn_model, \n",
    "          'input_shape': input_shape, \n",
    "          'output_shape': output_shape, \n",
    "          'optimization': optimization,\n",
    "          'model_path': param_path+'_best.ckpt',\n",
    "         }\n",
    "\n",
    "# plot saliency of top activations\n",
    "num_plots = 5\n",
    "for index in plot_index[:num_plots]:\n",
    "\n",
    "        # get a test sequence\n",
    "        X = np.expand_dims(test['inputs'][index], axis=0)\n",
    "\n",
    "        # guided backprop\n",
    "        guided_saliency = saliency.guided_backprop(X, layer='output', class_index=None, params=params)\n",
    "\n",
    "        # plot and save saliency\n",
    "        fig = plt.figure(figsize=(10,10))\n",
    "        visualize.plot_seq_pos_saliency(np.squeeze(X).T, \n",
    "                                        np.squeeze(guided_saliency[0]).T, \n",
    "                                        alphabet='dna', \n",
    "                                        nt_width=400)\n",
    "        #outfile = os.path.join(save_path, str(index)+'_saliency_.pdf')\n",
    "        #fig.savefig(outfile, format='pdf', dpi=200, bbox_inches='tight') \n",
    "        #plt.close()"
   ]
  },
  {
   "cell_type": "code",
   "execution_count": null,
   "metadata": {},
   "outputs": [],
   "source": []
  }
 ],
 "metadata": {
  "kernelspec": {
   "display_name": "Python 2",
   "language": "python",
   "name": "python2"
  },
  "language_info": {
   "codemirror_mode": {
    "name": "ipython",
    "version": 2
   },
   "file_extension": ".py",
   "mimetype": "text/x-python",
   "name": "python",
   "nbconvert_exporter": "python",
   "pygments_lexer": "ipython2",
   "version": "2.7.12"
  }
 },
 "nbformat": 4,
 "nbformat_minor": 2
}
