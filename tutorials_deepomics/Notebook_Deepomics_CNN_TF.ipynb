{
 "cells": [
  {
   "cell_type": "markdown",
   "metadata": {},
   "source": [
    "# Transcription factor binding analysis with convolutional neural networks\n",
    "\n",
    "In this tutorial, we will walk through an example of how to use deepomics to build, train, and evaluate a convolutional neural network for a common supervised classification learning task of predicting whether or not a TF binds to a given sequence. Deepomics is a higher level API that allows you to quickly build different neural network architectures, modify hyperparameters all while keeping track of the feed_dict.  It also allows for easier evaluation of neural networks for biological sequence data. \n",
    "\n",
    "To get deepomics:\n",
    "\n",
    "! git clone https://github.com/p-koo/deepomics"
   ]
  },
  {
   "cell_type": "code",
   "execution_count": 1,
   "metadata": {},
   "outputs": [],
   "source": [
    "from __future__ import absolute_import\n",
    "from __future__ import division\n",
    "from __future__ import print_function\n",
    "\n",
    "import os, sys, h5py\n",
    "import numpy as np\n",
    "import matplotlib.pyplot as plt\n",
    "%matplotlib inline\n",
    "\n",
    "from deepomics import neuralnetwork as nn\n",
    "from deepomics import utils, fit, visualize, saliency"
   ]
  },
  {
   "cell_type": "markdown",
   "metadata": {},
   "source": [
    "# load CTCF dataset\n",
    "\n",
    "Here, we will employ a CNN model to experimental ChIP-seq data for CTCF, a transciption factor that is known to bind to DNA and help form loops. \n",
    "CTCF conservative narrow peaks were downloaded from the ENCODE database:\n",
    "https://www.encodeproject.org/experiments/ENCSR000BIE/\n",
    "\n",
    "!wget https://www.encodeproject.org/files/ENCFF252PLM/@@download/ENCFF252PLM.bed.gz\n",
    "\n",
    "The peaks were processed with a script (process_chip.py), whose steps include:\n",
    "    1. enforce a constant window about each peak (window size = 100 nts)\n",
    "    2. employ bedtools to extract sequences from GRC38 reference genome\n",
    "    3. filter sequences which contain `N' characters\n",
    "    4. convert sequences into a one-hot representation\n",
    "    5. generate background sequences by performing a dinucleotide shuffle using meme\n",
    "    6. combine and shuffles positive and negative sequences\n",
    "    7. create a label vector with either a one for sequences that has a ChIP-seq peak and a zero for di-nuc shuffled sequences\n",
    "    8. split the dataset into a training set, validation set, and test set\n",
    "    9. save dataset to a hdf5 file\n",
    "    \n",
    "After processing, this dataset includes 72,769 training sequences, 10,396 validation sequences, and 20,792 test sequences.  Each sequence is 100 nts long taken about the center of a CHIP-seq peak  called across two replicates. The positive sequences have a label of 1, while the background sequences have a label of 0 (Y_train).  \n",
    "\n",
    "Note that the training sequences (X_train) have a shape of [72769, 4, 200].  Although tensorflow supports a 1D convolution function, tensorflow was designed with 2D images in mind, so there is way better support for the 2D functions.  We can use these 2D functions by adding another 'ornamental' dimension.  "
   ]
  },
  {
   "cell_type": "code",
   "execution_count": 2,
   "metadata": {},
   "outputs": [],
   "source": [
    "# path to dataset \n",
    "data_file_path = '../data/CTCF_100.h5'\n",
    "\n",
    "# load dataset\n",
    "dataset = h5py.File(data_file_path, 'r')\n",
    "X_train = np.array(dataset['X_train']).astype(np.float32)\n",
    "Y_train = np.array(dataset['Y_train']).astype(np.float32)\n",
    "X_valid = np.array(dataset['X_valid']).astype(np.float32)\n",
    "Y_valid = np.array(dataset['Y_valid']).astype(np.float32)\n",
    "X_test = np.array(dataset['X_test']).astype(np.float32)\n",
    "Y_test = np.array(dataset['Y_test']).astype(np.float32)\n",
    "\n",
    "# add another dimension to make it a 4D tensor and \n",
    "# transpose dimensions so that it matches convolutional layer inputs:\n",
    "#                  (batch size, sequence length, 1, nucleotide channels)\n",
    "#    Note: adding an additional dimension is required because we will be using 2D convolution functions,\n",
    "#          because tensorflow doesn't support a lot of functions for 1D sequences.  Effectively, its like\n",
    "#          treating second dimension as an image with one pixel in one axis.\n",
    "X_train = np.expand_dims(X_train, axis=3).transpose([0, 2, 3, 1])\n",
    "X_test = np.expand_dims(X_test, axis=3).transpose([0, 2, 3, 1])\n",
    "X_valid = np.expand_dims(X_valid, axis=3).transpose([0, 2, 3, 1])\n",
    "\n",
    "\n",
    "# Note: deepomics takes as input a dictionary for each dataset\n",
    "train = {'inputs': X_train, 'targets': Y_train}\n",
    "valid = {'inputs': X_valid, 'targets': Y_valid}\n",
    "test = {'inputs': X_test, 'targets': Y_test}"
   ]
  },
  {
   "cell_type": "markdown",
   "metadata": {},
   "source": [
    "# build our convolutional neural network model \n",
    "\n",
    "Our model will be similar to DeepBind: one convolutional layer, one fully-connected hidden layer, followed by an output layer.  "
   ]
  },
  {
   "cell_type": "code",
   "execution_count": 3,
   "metadata": {},
   "outputs": [],
   "source": [
    "def cnn_model(input_shape, output_shape):\n",
    "    \n",
    "    layer1 = {'layer': 'input', #200          \n",
    "              'input_shape': input_shape\n",
    "             }\n",
    "    layer2 = {'layer': 'conv1d',        # input, conv1d, dense, conv1d_residual, dense_residual, conv1d_transpose,\n",
    "                                        # concat, embedding, variational_normal, variational_softmax, + more\n",
    "              'num_filters': 24,\n",
    "              'filter_size': 19,\n",
    "              'norm': 'batch',          # if removed, automatically adds bias instead\n",
    "              'activation': 'relu',     # or leaky_relu, prelu, sigmoid, tanh, etc\n",
    "              'dropout': 0.2,           # if removed, default is no dropout\n",
    "              'padding': 'SAME',        # VALID OR SAME\n",
    "              'max_pool': 25,           # \n",
    "             }\n",
    "    layer3 = {'layer': 'dense',\n",
    "              'num_units': 64,\n",
    "              'norm': 'batch',\n",
    "              'activation': 'relu',\n",
    "              'dropout': 0.5,\n",
    "             }\n",
    "    layer4 = {'layer': 'dense',\n",
    "              'num_units': output_shape[1],\n",
    "              'activation': 'sigmoid'\n",
    "             }\n",
    "\n",
    "    model_layers = [layer1, layer2, layer3, layer4]\n",
    "\n",
    "    # optimization parameters\n",
    "    optimization = {\"objective\": \"binary\",     # binary, categorical, squared_error, elbo\n",
    "                    \"optimizer\": \"adam\",       # adam, sgd, momentum, rmsprop, adagrad\n",
    "                    \"learning_rate\": 0.0003,  \n",
    "                    \"l2\": 1e-6,\n",
    "                    #\"label_smoothing\": 0.05,\n",
    "                    #\"l1\": 1e-6,\n",
    "                    }\n",
    "    return model_layers, optimization\n",
    "\n",
    "\n",
    "# get shapes of inputs and targets\n",
    "input_shape = list(train['inputs'].shape)\n",
    "input_shape[0] = None\n",
    "output_shape = train['targets'].shape\n",
    "\n",
    "# load model parameters\n",
    "model_layers, optimization = cnn_model(input_shape, output_shape)\n",
    "\n",
    "# build neural network class\n",
    "nnmodel = nn.NeuralNet(seed=247)\n",
    "nnmodel.build_layers(model_layers, optimization)\n",
    "\n",
    "# compile neural trainer\n",
    "save_path = '../results/CTCF'\n",
    "param_path = os.path.join(save_path, 'deepomics_cnn')\n",
    "nntrainer = nn.NeuralTrainer(nnmodel, save='best', file_path=param_path)"
   ]
  },
  {
   "cell_type": "code",
   "execution_count": 4,
   "metadata": {},
   "outputs": [
    {
     "name": "stdout",
     "output_type": "stream",
     "text": [
      "----------------------------------------------------------------------------\n",
      "Network architecture:\n",
      "----------------------------------------------------------------------------\n",
      "layer1: inputs\n",
      "(?, 100, 1, 4)\n",
      "layer2: conv1d_0\n",
      "(?, 100, 1, 24)\n",
      "layer3: conv1d_0_batch\n",
      "(?, 100, 1, 24)\n",
      "layer4: conv1d_0_active\n",
      "(?, 100, 1, 24)\n",
      "layer5: conv1d_0_maxpool\n",
      "(?, 4, 1, 24)\n",
      "layer6: conv1d_0_dropout\n",
      "(?, 4, 1, 24)\n",
      "layer7: dense_0\n",
      "(?, 64)\n",
      "layer8: dense_0_batch\n",
      "(?, 64)\n",
      "layer9: dense_0_active\n",
      "(?, 64)\n",
      "layer10: dense_0_dropout\n",
      "(?, 64)\n",
      "layer11: dense_1\n",
      "(?, 1)\n",
      "layer12: dense_1_bias\n",
      "(?, 1)\n",
      "layer13: output\n",
      "(?, 1)\n",
      "----------------------------------------------------------------------------\n"
     ]
    }
   ],
   "source": [
    "# look at the shapes of each layer\n",
    "nnmodel.inspect_layers()"
   ]
  },
  {
   "cell_type": "markdown",
   "metadata": {},
   "source": [
    "# start a session"
   ]
  },
  {
   "cell_type": "code",
   "execution_count": 5,
   "metadata": {},
   "outputs": [],
   "source": [
    "# initialize session\n",
    "sess = utils.initialize_session()"
   ]
  },
  {
   "cell_type": "markdown",
   "metadata": {},
   "source": [
    "# train the neural network"
   ]
  },
  {
   "cell_type": "code",
   "execution_count": 6,
   "metadata": {
    "scrolled": false
   },
   "outputs": [
    {
     "name": "stdout",
     "output_type": "stream",
     "text": [
      "Epoch 1 out of 50 \n",
      "[==============================] 100.0% -- time=5s -- loss=0.59724 -- accuracy=67.97%   \n",
      "  valid loss:\t\t0.36653\n",
      "  valid accuracy:\t0.86351+/-0.00000\n",
      "  valid auc-roc:\t0.93387+/-0.00000\n",
      "  valid auc-pr:\t\t0.94017+/-0.00000\n",
      "  lower cross-validation found\n",
      "  saving model to:  ../results/CTCF/deepomics_cnn_best.ckpt\n",
      "Epoch 2 out of 50 \n",
      "[==============================] 100.0% -- time=5s -- loss=0.40717 -- accuracy=81.71%   \n",
      "  valid loss:\t\t0.37594\n",
      "  valid accuracy:\t0.82647+/-0.00000\n",
      "  valid auc-roc:\t0.95071+/-0.00000\n",
      "  valid auc-pr:\t\t0.95726+/-0.00000\n",
      "Epoch 3 out of 50 \n",
      "[==============================] 100.0% -- time=5s -- loss=0.31594 -- accuracy=86.72%   \n",
      "  valid loss:\t\t0.29278\n",
      "  valid accuracy:\t0.87312+/-0.00000\n",
      "  valid auc-roc:\t0.96629+/-0.00000\n",
      "  valid auc-pr:\t\t0.96922+/-0.00000\n",
      "  lower cross-validation found\n",
      "  saving model to:  ../results/CTCF/deepomics_cnn_best.ckpt\n",
      "Epoch 4 out of 50 \n",
      "[==============================] 100.0% -- time=5s -- loss=0.25060 -- accuracy=90.14%   \n",
      "  valid loss:\t\t0.20954\n",
      "  valid accuracy:\t0.92305+/-0.00000\n",
      "  valid auc-roc:\t0.97356+/-0.00000\n",
      "  valid auc-pr:\t\t0.97515+/-0.00000\n",
      "  lower cross-validation found\n",
      "  saving model to:  ../results/CTCF/deepomics_cnn_best.ckpt\n",
      "Epoch 5 out of 50 \n",
      "[==============================] 100.0% -- time=5s -- loss=0.22885 -- accuracy=91.13%   \n",
      "  valid loss:\t\t0.19849\n",
      "  valid accuracy:\t0.92478+/-0.00000\n",
      "  valid auc-roc:\t0.97630+/-0.00000\n",
      "  valid auc-pr:\t\t0.97742+/-0.00000\n",
      "  lower cross-validation found\n",
      "  saving model to:  ../results/CTCF/deepomics_cnn_best.ckpt\n",
      "Epoch 6 out of 50 \n",
      "[==============================] 100.0% -- time=5s -- loss=0.21691 -- accuracy=91.81%   \n",
      "  valid loss:\t\t0.18712\n",
      "  valid accuracy:\t0.92949+/-0.00000\n",
      "  valid auc-roc:\t0.97832+/-0.00000\n",
      "  valid auc-pr:\t\t0.97939+/-0.00000\n",
      "  lower cross-validation found\n",
      "  saving model to:  ../results/CTCF/deepomics_cnn_best.ckpt\n",
      "Epoch 7 out of 50 \n",
      "[==============================] 100.0% -- time=5s -- loss=0.20946 -- accuracy=92.09%   \n",
      "  valid loss:\t\t0.18249\n",
      "  valid accuracy:\t0.93276+/-0.00000\n",
      "  valid auc-roc:\t0.97927+/-0.00000\n",
      "  valid auc-pr:\t\t0.98027+/-0.00000\n",
      "  lower cross-validation found\n",
      "  saving model to:  ../results/CTCF/deepomics_cnn_best.ckpt\n",
      "Epoch 8 out of 50 \n",
      "[==============================] 100.0% -- time=5s -- loss=0.20374 -- accuracy=92.37%   \n",
      "  valid loss:\t\t0.18181\n",
      "  valid accuracy:\t0.93324+/-0.00000\n",
      "  valid auc-roc:\t0.97983+/-0.00000\n",
      "  valid auc-pr:\t\t0.98031+/-0.00000\n",
      "  lower cross-validation found\n",
      "  saving model to:  ../results/CTCF/deepomics_cnn_best.ckpt\n",
      "Epoch 9 out of 50 \n",
      "[==============================] 100.0% -- time=5s -- loss=0.20086 -- accuracy=92.46%   \n",
      "  valid loss:\t\t0.17790\n",
      "  valid accuracy:\t0.93267+/-0.00000\n",
      "  valid auc-roc:\t0.98055+/-0.00000\n",
      "  valid auc-pr:\t\t0.98105+/-0.00000\n",
      "  lower cross-validation found\n",
      "  saving model to:  ../results/CTCF/deepomics_cnn_best.ckpt\n",
      "Epoch 10 out of 50 \n",
      "[==============================] 100.0% -- time=5s -- loss=0.19762 -- accuracy=92.66%   \n",
      "  valid loss:\t\t0.17602\n",
      "  valid accuracy:\t0.93344+/-0.00000\n",
      "  valid auc-roc:\t0.98065+/-0.00000\n",
      "  valid auc-pr:\t\t0.98135+/-0.00000\n",
      "  lower cross-validation found\n",
      "  saving model to:  ../results/CTCF/deepomics_cnn_best.ckpt\n",
      "Epoch 11 out of 50 \n",
      "[==============================] 100.0% -- time=5s -- loss=0.19454 -- accuracy=92.77%   \n",
      "  valid loss:\t\t0.18075\n",
      "  valid accuracy:\t0.93170+/-0.00000\n",
      "  valid auc-roc:\t0.98034+/-0.00000\n",
      "  valid auc-pr:\t\t0.98104+/-0.00000\n",
      "Epoch 12 out of 50 \n",
      "[==============================] 100.0% -- time=5s -- loss=0.19429 -- accuracy=92.87%   \n",
      "  valid loss:\t\t0.17639\n",
      "  valid accuracy:\t0.93430+/-0.00000\n",
      "  valid auc-roc:\t0.98083+/-0.00000\n",
      "  valid auc-pr:\t\t0.98147+/-0.00000\n",
      "Epoch 13 out of 50 \n",
      "[==============================] 100.0% -- time=5s -- loss=0.19179 -- accuracy=92.89%   \n",
      "  valid loss:\t\t0.17540\n",
      "  valid accuracy:\t0.93459+/-0.00000\n",
      "  valid auc-roc:\t0.98103+/-0.00000\n",
      "  valid auc-pr:\t\t0.98147+/-0.00000\n",
      "  lower cross-validation found\n",
      "  saving model to:  ../results/CTCF/deepomics_cnn_best.ckpt\n",
      "Epoch 14 out of 50 \n",
      "[==============================] 100.0% -- time=5s -- loss=0.18911 -- accuracy=92.96%   \n",
      "  valid loss:\t\t0.18000\n",
      "  valid accuracy:\t0.93093+/-0.00000\n",
      "  valid auc-roc:\t0.98076+/-0.00000\n",
      "  valid auc-pr:\t\t0.98097+/-0.00000\n",
      "Epoch 15 out of 50 \n",
      "[==============================] 100.0% -- time=5s -- loss=0.19001 -- accuracy=93.06%   \n",
      "  valid loss:\t\t0.17635\n",
      "  valid accuracy:\t0.93546+/-0.00000\n",
      "  valid auc-roc:\t0.98065+/-0.00000\n",
      "  valid auc-pr:\t\t0.98108+/-0.00000\n",
      "Epoch 16 out of 50 \n",
      "[==============================] 100.0% -- time=5s -- loss=0.18878 -- accuracy=93.13%   \n",
      "  valid loss:\t\t0.17641\n",
      "  valid accuracy:\t0.93421+/-0.00000\n",
      "  valid auc-roc:\t0.98063+/-0.00000\n",
      "  valid auc-pr:\t\t0.98111+/-0.00000\n",
      "Epoch 17 out of 50 \n",
      "[==============================] 100.0% -- time=5s -- loss=0.18603 -- accuracy=93.26%   \n",
      "  valid loss:\t\t0.17534\n",
      "  valid accuracy:\t0.93478+/-0.00000\n",
      "  valid auc-roc:\t0.98080+/-0.00000\n",
      "  valid auc-pr:\t\t0.98134+/-0.00000\n",
      "  lower cross-validation found\n",
      "  saving model to:  ../results/CTCF/deepomics_cnn_best.ckpt\n",
      "Epoch 18 out of 50 \n",
      "[==============================] 100.0% -- time=5s -- loss=0.18659 -- accuracy=93.15%   \n",
      "  valid loss:\t\t0.17335\n",
      "  valid accuracy:\t0.93526+/-0.00000\n",
      "  valid auc-roc:\t0.98107+/-0.00000\n",
      "  valid auc-pr:\t\t0.98175+/-0.00000\n",
      "  lower cross-validation found\n",
      "  saving model to:  ../results/CTCF/deepomics_cnn_best.ckpt\n",
      "Epoch 19 out of 50 \n",
      "[==============================] 100.0% -- time=5s -- loss=0.18761 -- accuracy=93.12%   \n",
      "  valid loss:\t\t0.17528\n",
      "  valid accuracy:\t0.93459+/-0.00000\n",
      "  valid auc-roc:\t0.98089+/-0.00000\n",
      "  valid auc-pr:\t\t0.98150+/-0.00000\n",
      "Epoch 20 out of 50 \n",
      "[==============================] 100.0% -- time=5s -- loss=0.18763 -- accuracy=93.12%   \n",
      "  valid loss:\t\t0.17401\n",
      "  valid accuracy:\t0.93478+/-0.00000\n",
      "  valid auc-roc:\t0.98144+/-0.00000\n",
      "  valid auc-pr:\t\t0.98211+/-0.00000\n",
      "Epoch 21 out of 50 \n",
      "[==============================] 100.0% -- time=5s -- loss=0.18427 -- accuracy=93.21%   \n",
      "  valid loss:\t\t0.17141\n",
      "  valid accuracy:\t0.93536+/-0.00000\n",
      "  valid auc-roc:\t0.98163+/-0.00000\n",
      "  valid auc-pr:\t\t0.98244+/-0.00000\n",
      "  lower cross-validation found\n",
      "  saving model to:  ../results/CTCF/deepomics_cnn_best.ckpt\n",
      "Epoch 22 out of 50 \n",
      "[==============================] 100.0% -- time=5s -- loss=0.18298 -- accuracy=93.30%   \n",
      "  valid loss:\t\t0.17278\n",
      "  valid accuracy:\t0.93728+/-0.00000\n",
      "  valid auc-roc:\t0.98132+/-0.00000\n",
      "  valid auc-pr:\t\t0.98219+/-0.00000\n",
      "Epoch 23 out of 50 \n",
      "[==============================] 100.0% -- time=5s -- loss=0.18217 -- accuracy=93.29%   \n",
      "  valid loss:\t\t0.17307\n",
      "  valid accuracy:\t0.93449+/-0.00000\n",
      "  valid auc-roc:\t0.98174+/-0.00000\n",
      "  valid auc-pr:\t\t0.98264+/-0.00000\n",
      "Epoch 24 out of 50 \n",
      "[==============================] 100.0% -- time=5s -- loss=0.18221 -- accuracy=93.29%   \n",
      "  valid loss:\t\t0.17315\n",
      "  valid accuracy:\t0.93392+/-0.00000\n",
      "  valid auc-roc:\t0.98132+/-0.00000\n",
      "  valid auc-pr:\t\t0.98214+/-0.00000\n",
      "Epoch 25 out of 50 \n",
      "[==============================] 100.0% -- time=5s -- loss=0.18276 -- accuracy=93.28%   \n",
      "  valid loss:\t\t0.17047\n",
      "  valid accuracy:\t0.93738+/-0.00000\n",
      "  valid auc-roc:\t0.98183+/-0.00000\n",
      "  valid auc-pr:\t\t0.98226+/-0.00000\n",
      "  lower cross-validation found\n",
      "  saving model to:  ../results/CTCF/deepomics_cnn_best.ckpt\n",
      "Epoch 26 out of 50 \n",
      "[==============================] 100.0% -- time=5s -- loss=0.18167 -- accuracy=93.49%   \n",
      "  valid loss:\t\t0.17161\n",
      "  valid accuracy:\t0.93738+/-0.00000\n",
      "  valid auc-roc:\t0.98153+/-0.00000\n",
      "  valid auc-pr:\t\t0.98207+/-0.00000\n",
      "Epoch 27 out of 50 \n",
      "[==============================] 100.0% -- time=5s -- loss=0.18301 -- accuracy=93.21%   \n",
      "  valid loss:\t\t0.17320\n",
      "  valid accuracy:\t0.93574+/-0.00000\n",
      "  valid auc-roc:\t0.98180+/-0.00000\n",
      "  valid auc-pr:\t\t0.98248+/-0.00000\n",
      "Epoch 28 out of 50 \n",
      "[==============================] 100.0% -- time=5s -- loss=0.18031 -- accuracy=93.47%   \n",
      "  valid loss:\t\t0.17157\n",
      "  valid accuracy:\t0.93642+/-0.00000\n",
      "  valid auc-roc:\t0.98173+/-0.00000\n",
      "  valid auc-pr:\t\t0.98234+/-0.00000\n",
      "Epoch 29 out of 50 \n",
      "[==============================] 100.0% -- time=5s -- loss=0.18053 -- accuracy=93.45%   \n",
      "  valid loss:\t\t0.17132\n",
      "  valid accuracy:\t0.93517+/-0.00000\n",
      "  valid auc-roc:\t0.98210+/-0.00000\n",
      "  valid auc-pr:\t\t0.98277+/-0.00000\n",
      "Epoch 30 out of 50 \n"
     ]
    },
    {
     "name": "stdout",
     "output_type": "stream",
     "text": [
      "[==============================] 100.0% -- time=4s -- loss=0.18320 -- accuracy=93.38%   \n",
      "  valid loss:\t\t0.17320\n",
      "  valid accuracy:\t0.93574+/-0.00000\n",
      "  valid auc-roc:\t0.98158+/-0.00000\n",
      "  valid auc-pr:\t\t0.98210+/-0.00000\n",
      "Epoch 31 out of 50 \n",
      "[==============================] 100.0% -- time=4s -- loss=0.17971 -- accuracy=93.44%   \n",
      "  valid loss:\t\t0.17091\n",
      "  valid accuracy:\t0.93574+/-0.00000\n",
      "  valid auc-roc:\t0.98202+/-0.00000\n",
      "  valid auc-pr:\t\t0.98282+/-0.00000\n",
      "Epoch 32 out of 50 \n",
      "[==============================] 100.0% -- time=4s -- loss=0.18072 -- accuracy=93.47%   \n",
      "  valid loss:\t\t0.17249\n",
      "  valid accuracy:\t0.93661+/-0.00000\n",
      "  valid auc-roc:\t0.98219+/-0.00000\n",
      "  valid auc-pr:\t\t0.98291+/-0.00000\n",
      "Epoch 33 out of 50 \n",
      "[==============================] 100.0% -- time=5s -- loss=0.18053 -- accuracy=93.39%   \n",
      "  valid loss:\t\t0.17075\n",
      "  valid accuracy:\t0.93671+/-0.00000\n",
      "  valid auc-roc:\t0.98215+/-0.00000\n",
      "  valid auc-pr:\t\t0.98283+/-0.00000\n",
      "Epoch 34 out of 50 \n",
      "[==============================] 100.0% -- time=5s -- loss=0.17817 -- accuracy=93.43%   \n",
      "  valid loss:\t\t0.16995\n",
      "  valid accuracy:\t0.93574+/-0.00000\n",
      "  valid auc-roc:\t0.98240+/-0.00000\n",
      "  valid auc-pr:\t\t0.98302+/-0.00000\n",
      "  lower cross-validation found\n",
      "  saving model to:  ../results/CTCF/deepomics_cnn_best.ckpt\n",
      "Epoch 35 out of 50 \n",
      "[==============================] 100.0% -- time=5s -- loss=0.17992 -- accuracy=93.45%   \n",
      "  valid loss:\t\t0.16860\n",
      "  valid accuracy:\t0.93709+/-0.00000\n",
      "  valid auc-roc:\t0.98220+/-0.00000\n",
      "  valid auc-pr:\t\t0.98286+/-0.00000\n",
      "  lower cross-validation found\n",
      "  saving model to:  ../results/CTCF/deepomics_cnn_best.ckpt\n",
      "Epoch 36 out of 50 \n",
      "[==============================] 100.0% -- time=5s -- loss=0.17988 -- accuracy=93.43%   \n",
      "  valid loss:\t\t0.17109\n",
      "  valid accuracy:\t0.93671+/-0.00000\n",
      "  valid auc-roc:\t0.98202+/-0.00000\n",
      "  valid auc-pr:\t\t0.98240+/-0.00000\n",
      "Epoch 37 out of 50 \n",
      "[==============================] 100.0% -- time=5s -- loss=0.17776 -- accuracy=93.51%   \n",
      "  valid loss:\t\t0.17479\n",
      "  valid accuracy:\t0.93247+/-0.00000\n",
      "  valid auc-roc:\t0.98221+/-0.00000\n",
      "  valid auc-pr:\t\t0.98274+/-0.00000\n",
      "Epoch 38 out of 50 \n",
      "[==============================] 100.0% -- time=5s -- loss=0.18005 -- accuracy=93.41%   \n",
      "  valid loss:\t\t0.17097\n",
      "  valid accuracy:\t0.93603+/-0.00000\n",
      "  valid auc-roc:\t0.98223+/-0.00000\n",
      "  valid auc-pr:\t\t0.98287+/-0.00000\n",
      "Epoch 39 out of 50 \n",
      "[==============================] 100.0% -- time=5s -- loss=0.17738 -- accuracy=93.50%   \n",
      "  valid loss:\t\t0.16896\n",
      "  valid accuracy:\t0.93719+/-0.00000\n",
      "  valid auc-roc:\t0.98225+/-0.00000\n",
      "  valid auc-pr:\t\t0.98260+/-0.00000\n",
      "Epoch 40 out of 50 \n",
      "[==============================] 100.0% -- time=5s -- loss=0.17794 -- accuracy=93.50%   \n",
      "  valid loss:\t\t0.17242\n",
      "  valid accuracy:\t0.93449+/-0.00000\n",
      "  valid auc-roc:\t0.98198+/-0.00000\n",
      "  valid auc-pr:\t\t0.98258+/-0.00000\n",
      "Epoch 41 out of 50 \n",
      "[==============================] 100.0% -- time=5s -- loss=0.17878 -- accuracy=93.45%   \n",
      "  valid loss:\t\t0.17466\n",
      "  valid accuracy:\t0.93517+/-0.00000\n",
      "  valid auc-roc:\t0.98191+/-0.00000\n",
      "  valid auc-pr:\t\t0.98248+/-0.00000\n",
      "Epoch 42 out of 50 \n",
      "[==============================] 100.0% -- time=5s -- loss=0.17999 -- accuracy=93.42%   \n",
      "  valid loss:\t\t0.17681\n",
      "  valid accuracy:\t0.93497+/-0.00000\n",
      "  valid auc-roc:\t0.98208+/-0.00000\n",
      "  valid auc-pr:\t\t0.98269+/-0.00000\n",
      "Epoch 43 out of 50 \n",
      "[==============================] 100.0% -- time=5s -- loss=0.17885 -- accuracy=93.46%   \n",
      "  valid loss:\t\t0.17350\n",
      "  valid accuracy:\t0.93469+/-0.00000\n",
      "  valid auc-roc:\t0.98208+/-0.00000\n",
      "  valid auc-pr:\t\t0.98267+/-0.00000\n",
      "Epoch 44 out of 50 \n",
      "[==============================] 100.0% -- time=5s -- loss=0.17701 -- accuracy=93.51%   \n",
      "  valid loss:\t\t0.17383\n",
      "  valid accuracy:\t0.93315+/-0.00000\n",
      "  valid auc-roc:\t0.98193+/-0.00000\n",
      "  valid auc-pr:\t\t0.98261+/-0.00000\n",
      "Epoch 45 out of 50 \n",
      "[==============================] 100.0% -- time=5s -- loss=0.17893 -- accuracy=93.50%   \n",
      "  valid loss:\t\t0.17082\n",
      "  valid accuracy:\t0.93632+/-0.00000\n",
      "  valid auc-roc:\t0.98232+/-0.00000\n",
      "  valid auc-pr:\t\t0.98284+/-0.00000\n",
      "Patience ran out... Early stopping.\n"
     ]
    }
   ],
   "source": [
    "# fit model\n",
    "data = {'train': train, 'valid': valid}\n",
    "fit.train_minibatch(sess, nntrainer, data, \n",
    "                    batch_size=100, \n",
    "                    num_epochs=50,\n",
    "                    patience=10, \n",
    "                    verbose=2, \n",
    "                    shuffle=True, \n",
    "                    save_all=False)"
   ]
  },
  {
   "cell_type": "code",
   "execution_count": 7,
   "metadata": {},
   "outputs": [
    {
     "name": "stdout",
     "output_type": "stream",
     "text": [
      "loading model from:  ../results/CTCF/deepomics_cnn_best.ckpt\n",
      "INFO:tensorflow:Restoring parameters from ../results/CTCF/deepomics_cnn_best.ckpt\n",
      "  test  loss:\t\t0.15876\n",
      "  test  accuracy:\t0.94118+/-0.00000\n",
      "  test  auc-roc:\t0.98442+/-0.00000\n",
      "  test  auc-pr:\t\t0.98503+/-0.00000\n"
     ]
    }
   ],
   "source": [
    "# set best parameters\n",
    "nntrainer.set_best_parameters(sess)\n",
    "\n",
    "# test model\n",
    "loss, mean_vals, std_vals = nntrainer.test_model(sess, test, name='test')"
   ]
  },
  {
   "cell_type": "markdown",
   "metadata": {},
   "source": [
    "# Let's visualize first convolutional layer filters"
   ]
  },
  {
   "cell_type": "code",
   "execution_count": 8,
   "metadata": {},
   "outputs": [
    {
     "name": "stderr",
     "output_type": "stream",
     "text": [
      "/usr/lib/python2.7/dist-packages/matplotlib/figure.py:1744: UserWarning: This figure includes Axes that are not compatible with tight_layout, so its results might be incorrect.\n",
      "  warnings.warn(\"This figure includes Axes that are not \"\n"
     ]
    },
    {
     "data": {
      "image/png": "[encoded data removed]",
      "text/plain": [
       "<matplotlib.figure.Figure at 0x7ff5dae78b50>"
      ]
     },
     "metadata": {},
     "output_type": "display_data"
    }
   ],
   "source": [
    "# plot first layer filters\n",
    "W = nnmodel.get_parameters(sess, layer='conv1d_0')[0]\n",
    "fig = visualize.plot_filter_logos(W, figsize=(100,50), height=25, \n",
    "                            nt_width=10, norm=0, alphabet='dna')"
   ]
  },
  {
   "cell_type": "markdown",
   "metadata": {},
   "source": [
    "# get predictions\n",
    "\n",
    "Note: the activations of any layer can be extracted by giving the layer name."
   ]
  },
  {
   "cell_type": "code",
   "execution_count": 9,
   "metadata": {},
   "outputs": [],
   "source": [
    "# calculate activations\n",
    "predictions = nntrainer.get_activations(sess, test, layer='output')"
   ]
  },
  {
   "cell_type": "markdown",
   "metadata": {},
   "source": [
    "# close session"
   ]
  },
  {
   "cell_type": "code",
   "execution_count": 10,
   "metadata": {},
   "outputs": [],
   "source": [
    "# close session\n",
    "sess.close()"
   ]
  },
  {
   "cell_type": "markdown",
   "metadata": {},
   "source": [
    "# Let's plot saliency maps for the highest predicted sequences"
   ]
  },
  {
   "cell_type": "code",
   "execution_count": 11,
   "metadata": {},
   "outputs": [
    {
     "name": "stdout",
     "output_type": "stream",
     "text": [
      "INFO:tensorflow:Restoring parameters from ../results/CTCF/deepomics_cnn_best.ckpt\n",
      "INFO:tensorflow:Restoring parameters from ../results/CTCF/deepomics_cnn_best.ckpt\n",
      "INFO:tensorflow:Restoring parameters from ../results/CTCF/deepomics_cnn_best.ckpt\n",
      "INFO:tensorflow:Restoring parameters from ../results/CTCF/deepomics_cnn_best.ckpt\n",
      "INFO:tensorflow:Restoring parameters from ../results/CTCF/deepomics_cnn_best.ckpt\n"
     ]
    },
    {
     "data": {
      "image/png": "[encoded data removed]",
      "text/plain": [
       "<matplotlib.figure.Figure at 0x7ff5f233e990>"
      ]
     },
     "metadata": {},
     "output_type": "display_data"
    },
    {
     "data": {
      "image/png": "[encoded data removed]",
      "text/plain": [
       "<matplotlib.figure.Figure at 0x7ff5eef0af50>"
      ]
     },
     "metadata": {},
     "output_type": "display_data"
    },
    {
     "data": {
      "image/png": "[encoded data removed]",
      "text/plain": [
       "<matplotlib.figure.Figure at 0x7ff5f2676b10>"
      ]
     },
     "metadata": {},
     "output_type": "display_data"
    },
    {
     "data": {
      "image/png": "[encoded data removed]",
      "text/plain": [
       "<matplotlib.figure.Figure at 0x7ff5f28dcd10>"
      ]
     },
     "metadata": {},
     "output_type": "display_data"
    },
    {
     "data": {
      "image/png": "[encoded data removed]",
      "text/plain": [
       "<matplotlib.figure.Figure at 0x7ff54f599a50>"
      ]
     },
     "metadata": {},
     "output_type": "display_data"
    }
   ],
   "source": [
    "# sort activations\n",
    "plot_index = np.argsort(predictions[:,0])[::-1]\n",
    "\n",
    "# saliency parameters  <-- neccessary because we need to rebuild graph using different gradient ops\n",
    "params = {'genome_model': cnn_model, \n",
    "          'input_shape': input_shape, \n",
    "          'output_shape': output_shape, \n",
    "          'optimization': optimization,\n",
    "          'model_path': param_path+'_best.ckpt',\n",
    "         }\n",
    "\n",
    "# plot saliency of top activations\n",
    "num_plots = 5\n",
    "for index in plot_index[:num_plots]:\n",
    "\n",
    "        # get a test sequence\n",
    "        X = np.expand_dims(test['inputs'][index], axis=0)\n",
    "\n",
    "        # guided backprop\n",
    "        guided_saliency = saliency.guided_backprop(X, layer='output', class_index=None, params=params)\n",
    "\n",
    "        # plot and save saliency\n",
    "        fig = plt.figure(figsize=(10,10))\n",
    "        visualize.plot_seq_pos_saliency(np.squeeze(X).T, \n",
    "                                        np.squeeze(guided_saliency[0]).T, \n",
    "                                        alphabet='dna', \n",
    "                                        nt_width=400)"
   ]
  },
  {
   "cell_type": "code",
   "execution_count": null,
   "metadata": {},
   "outputs": [],
   "source": []
  }
 ],
 "metadata": {
  "kernelspec": {
   "display_name": "Python 2",
   "language": "python",
   "name": "python2"
  },
  "language_info": {
   "codemirror_mode": {
    "name": "ipython",
    "version": 2
   },
   "file_extension": ".py",
   "mimetype": "text/x-python",
   "name": "python",
   "nbconvert_exporter": "python",
   "pygments_lexer": "ipython2",
   "version": "2.7.12"
  }
 },
 "nbformat": 4,
 "nbformat_minor": 2
}
